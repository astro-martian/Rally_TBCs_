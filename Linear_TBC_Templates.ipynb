{
 "cells": [
  {
   "cell_type": "markdown",
   "metadata": {
    "collapsed": true
   },
   "source": [
    "# Linear Token Bonding Curve Templates\n",
    "\n",
    "**Abstract :** For economies which are expected to attract a significant number of supporters and user activity, we suggest that a linear curve together with a secondary market will be the most viable way to create the desired market structure which will both keep the token price in-line with its perceived intrinsic value while allowing the community to organize different activities around the creator coin market. \n",
    "\n",
    "### TBC Template #1 : Static price for pre-sale, linear curve for market maturity phase\n",
    "\n",
    "Brief description of different market phases supported by this template are mentioned below -\n",
    "\n",
    "![TBC Template #1 : Static price for pre-sale, linear curve for market maturity phase](./curves/template1.png)\n",
    "\n",
    "- Genesis Mint : CCs minted against minimal RLY locked\n",
    "- Pre-Sale - CCs sold at a fixed price denominated in RLY\n",
    "- Market Maturity - Liquidity provided by an exchange pricing function, y = m*x + c\n",
    "\n",
    "\n",
    "The linear curve on the right supports early market phases such as ‘pre-sale’ for the associated creator coin community members and the liquidity bootstrapping phase during which the price of the CC will increase proportionally to the increase in total circulating supply.\n",
    "\n",
    "\n",
    "### TBC Template #2 : Linear curve for pre-sale and market maturity phase\n",
    "\n",
    "Brief description of different market phases supported by this template are mentioned below -\n",
    "\n",
    "![TBC Template #2 : Linear curve for pre-sale and market maturity phase](./curves/template2.png)\n",
    "\n",
    "- Genesis Mint : CCs minted against minimal RLY locked\n",
    "- Pre-Sale - Liquidity provided by a linear exchange pricing function, y = m*x + c\n",
    "- Market Maturity - Liquidity provided by an exchange pricing function, y = m*x + c\n",
    "\n",
    "The max supply of Creator Coins that can be minted is capped.\n",
    "\n",
    "\n",
    "### TBC Template #3 : Logarithmic curve for pre-sale and linear curve for market maturity phase\n",
    "\n",
    "Brief description of different market phases supported by this template are mentioned below -\n",
    "\n",
    "![TBC Template #3 : Logarithmic curve for pre-sale and linear curve for market maturity phase](./curves/template3.png)\n",
    "\n",
    "- Genesis Mint : CCs minted against minimal RLY locked\n",
    "- Pre-Sale - Liquidity provided by a logarithmic exchange pricing function, price = C1 + C2*log(x) \n",
    "- Market Maturity - Liquidity provided by an exchange pricing function, y = m*x + c\n",
    "\n",
    "The max supply of Creator Coins that can be minted is capped.\n",
    "\n",
    "\n",
    "## What is Rally Network ?\n",
    "Rally is building a platform that will be supported by various well-designed defi primitives as the underlying building blocks for its economy, allowing creators to create and structure their own virtual economies, ultimately creating a completely new kind of composable social economy network toolkit integrable across various emerging community driven DAOs and social media networks! (Twitch, Discord, Twitter and many more)\n",
    "\n",
    "\n",
    "\n",
    "### About Creator Coins \n",
    " - Rally Network allows any social media influencer / high-net worth individual to launch his own Creator Coin on the Rally Network. Each Creator Coin is backed by its own Token Bonding Curve providing immediate liquidity to the economy participants, at a price defined by the exchange pricing function which can be customized as per the needs and objectives of the emerging social economy networks.\n",
    "\n"
   ]
  },
  {
   "cell_type": "code",
   "execution_count": 194,
   "metadata": {},
   "outputs": [],
   "source": [
    "import math\n",
    "import time\n",
    "from scipy.stats import norm\n",
    "import numpy as np\n",
    "from datetime import date,datetime,timedelta, timezone\n",
    "import pandas as pd\n",
    "import matplotlib.pyplot as plt\n",
    "pd.set_option(\"display.max_rows\", None)"
   ]
  },
  {
   "cell_type": "markdown",
   "metadata": {},
   "source": [
    "# TBC Template #1 : Static price for pre-sale, linear curve for market maturity phase\n",
    "\n",
    "Brief description of different market phases supported by this template are mentioned below -\n",
    "\n",
    "![TBC Template #1 : Static price for pre-sale, linear curve for market maturity phase](./curves/template1.png)\n",
    "\n",
    "- Genesis Mint : CCs minted against minimal RLY locked\n",
    "- Pre-Sale - CCs sold at a fixed price denominated in RLY\n",
    "- Market Maturity - Liquidity provided by an exchange pricing function, y = m*x + c\n",
    "\n",
    "The max supply of Creator Coins that can be minted is capped."
   ]
  },
  {
   "cell_type": "code",
   "execution_count": 205,
   "metadata": {},
   "outputs": [],
   "source": [
    "# Parameters\n",
    "total_CC_Supply = 21000000            # 21 Million\n",
    "RLY_total_locked_target = 210000000   # 210 Million\n",
    "\n",
    "genesis_supply = 5000000 # 5 Million\n",
    "\n",
    "totalRallyLocked = 0    \n",
    "\n",
    "# Pre-Sale Parameters\n",
    "_CCsSold_presale = 2000000  # 2 Million\n",
    "_RLY_Locked_presale = 2000000 # 2 Million\n",
    "_CCprice_presale = _RLY_Locked_presale / _CCsSold_presale # static price during pre-sale"
   ]
  },
  {
   "cell_type": "code",
   "execution_count": 206,
   "metadata": {},
   "outputs": [],
   "source": [
    "df = pd.DataFrame([], columns = ['date', 'timestamp','slope','CC To be Minted','RLY To be Locked',\n",
    "                                 'CCs : Price (RLY)','CCs : Delta Supply','CCs : Total Supply',\n",
    "                                 'RLY : Delta Locked','RLY : Total Locked',\n",
    "                                 '+2% depth: CCs Minted','+2% depth: RLY Locked','+2% depth: RLY/CC',\n",
    "                                 '-2% depth: CCs Burnt','-2% depth: RLY Un-Locked','-2% depth: RLY/CC',\n",
    "                                 'Reserve Ratio','Note']) \n",
    "df['date'] = pd.to_datetime(df['date'],format='%d/%m/%Y')\n",
    "\n",
    "unix = datetime(1970, 1, 1)\n",
    "cur_  = datetime(2021, 1, 1)\n",
    "\n",
    "deltaTime = timedelta(minutes=1)"
   ]
  },
  {
   "cell_type": "markdown",
   "metadata": {},
   "source": [
    "##### Adding first row (Phase 0)"
   ]
  },
  {
   "cell_type": "code",
   "execution_count": 207,
   "metadata": {},
   "outputs": [],
   "source": [
    "df.loc[0] = [pd.to_datetime(cur_,format='%d/%m/%Y'),int((cur_ - unix).total_seconds()),0,total_CC_Supply,RLY_total_locked_target\n",
    "                         ,0,0,0,0,0,0,0,0,0,0,0,0, 'Phase 0']"
   ]
  },
  {
   "cell_type": "code",
   "execution_count": 208,
   "metadata": {},
   "outputs": [],
   "source": [
    "# display(df)"
   ]
  },
  {
   "cell_type": "markdown",
   "metadata": {},
   "source": [
    "## Genesis Supply"
   ]
  },
  {
   "cell_type": "code",
   "execution_count": 209,
   "metadata": {},
   "outputs": [
    {
     "name": "stdout",
     "output_type": "stream",
     "text": [
      "Genesis Supply =  5000000  CCs, which equals  23.81 % of the total CCs supply cap of  21000000\n"
     ]
    }
   ],
   "source": [
    "gen_percent_of_total = genesis_supply/total_CC_Supply * 100\n",
    "print('Genesis Supply = ',genesis_supply,' CCs, which equals ',\n",
    "      round(gen_percent_of_total,2),'% of the total CCs supply cap of '      ,total_CC_Supply )"
   ]
  },
  {
   "cell_type": "code",
   "execution_count": 210,
   "metadata": {},
   "outputs": [],
   "source": [
    "##### Adding 2nd row : State after Genesis Mint"
   ]
  },
  {
   "cell_type": "code",
   "execution_count": 211,
   "metadata": {},
   "outputs": [],
   "source": [
    "cur_ = cur_ + deltaTime\n",
    "df.loc[len(df.index)] = [pd.to_datetime(cur_,format='%d/%m/%Y'),int((cur_ - unix).total_seconds()),\n",
    "                         0,total_CC_Supply - genesis_supply,RLY_total_locked_target,0,genesis_supply,genesis_supply,0,0,0,0,0,0,0,0,0,'Genesis Mint']"
   ]
  },
  {
   "cell_type": "code",
   "execution_count": 212,
   "metadata": {},
   "outputs": [
    {
     "data": {
      "text/html": [
       "<div>\n",
       "<style scoped>\n",
       "    .dataframe tbody tr th:only-of-type {\n",
       "        vertical-align: middle;\n",
       "    }\n",
       "\n",
       "    .dataframe tbody tr th {\n",
       "        vertical-align: top;\n",
       "    }\n",
       "\n",
       "    .dataframe thead th {\n",
       "        text-align: right;\n",
       "    }\n",
       "</style>\n",
       "<table border=\"1\" class=\"dataframe\">\n",
       "  <thead>\n",
       "    <tr style=\"text-align: right;\">\n",
       "      <th></th>\n",
       "      <th>date</th>\n",
       "      <th>timestamp</th>\n",
       "      <th>slope</th>\n",
       "      <th>CC To be Minted</th>\n",
       "      <th>RLY To be Locked</th>\n",
       "      <th>CCs : Price (RLY)</th>\n",
       "      <th>CCs : Delta Supply</th>\n",
       "      <th>CCs : Total Supply</th>\n",
       "      <th>RLY : Delta Locked</th>\n",
       "      <th>RLY : Total Locked</th>\n",
       "      <th>+2% depth: CCs Minted</th>\n",
       "      <th>+2% depth: RLY Locked</th>\n",
       "      <th>+2% depth: RLY/CC</th>\n",
       "      <th>-2% depth: CCs Burnt</th>\n",
       "      <th>-2% depth: RLY Un-Locked</th>\n",
       "      <th>-2% depth: RLY/CC</th>\n",
       "      <th>Reserve Ratio</th>\n",
       "      <th>Note</th>\n",
       "    </tr>\n",
       "  </thead>\n",
       "  <tbody>\n",
       "    <tr>\n",
       "      <th>0</th>\n",
       "      <td>2021-01-01 00:00:00</td>\n",
       "      <td>1609459200</td>\n",
       "      <td>0</td>\n",
       "      <td>21000000</td>\n",
       "      <td>210000000</td>\n",
       "      <td>0</td>\n",
       "      <td>0</td>\n",
       "      <td>0</td>\n",
       "      <td>0</td>\n",
       "      <td>0</td>\n",
       "      <td>0</td>\n",
       "      <td>0</td>\n",
       "      <td>0</td>\n",
       "      <td>0</td>\n",
       "      <td>0</td>\n",
       "      <td>0</td>\n",
       "      <td>0</td>\n",
       "      <td>Phase 0</td>\n",
       "    </tr>\n",
       "    <tr>\n",
       "      <th>1</th>\n",
       "      <td>2021-01-01 00:01:00</td>\n",
       "      <td>1609459260</td>\n",
       "      <td>0</td>\n",
       "      <td>16000000</td>\n",
       "      <td>210000000</td>\n",
       "      <td>0</td>\n",
       "      <td>5000000</td>\n",
       "      <td>5000000</td>\n",
       "      <td>0</td>\n",
       "      <td>0</td>\n",
       "      <td>0</td>\n",
       "      <td>0</td>\n",
       "      <td>0</td>\n",
       "      <td>0</td>\n",
       "      <td>0</td>\n",
       "      <td>0</td>\n",
       "      <td>0</td>\n",
       "      <td>Genesis Mint</td>\n",
       "    </tr>\n",
       "  </tbody>\n",
       "</table>\n",
       "</div>"
      ],
      "text/plain": [
       "                 date   timestamp slope CC To be Minted RLY To be Locked  \\\n",
       "0 2021-01-01 00:00:00  1609459200     0        21000000        210000000   \n",
       "1 2021-01-01 00:01:00  1609459260     0        16000000        210000000   \n",
       "\n",
       "  CCs : Price (RLY) CCs : Delta Supply CCs : Total Supply RLY : Delta Locked  \\\n",
       "0                 0                  0                  0                  0   \n",
       "1                 0            5000000            5000000                  0   \n",
       "\n",
       "  RLY : Total Locked +2% depth: CCs Minted +2% depth: RLY Locked  \\\n",
       "0                  0                     0                     0   \n",
       "1                  0                     0                     0   \n",
       "\n",
       "  +2% depth: RLY/CC -2% depth: CCs Burnt -2% depth: RLY Un-Locked  \\\n",
       "0                 0                    0                        0   \n",
       "1                 0                    0                        0   \n",
       "\n",
       "  -2% depth: RLY/CC Reserve Ratio          Note  \n",
       "0                 0             0       Phase 0  \n",
       "1                 0             0  Genesis Mint  "
      ]
     },
     "metadata": {},
     "output_type": "display_data"
    }
   ],
   "source": [
    "display(df)"
   ]
  },
  {
   "cell_type": "markdown",
   "metadata": {},
   "source": [
    "## Pre-Sale"
   ]
  },
  {
   "cell_type": "code",
   "execution_count": 213,
   "metadata": {},
   "outputs": [
    {
     "name": "stdout",
     "output_type": "stream",
     "text": [
      "CCs sold at a fixed price of 1.0 RLY during the pre-sale\n",
      "\n",
      "Total CCs sold during pre-sale = 2000000\n",
      "Total RLY bonded to the TBC during pre-sale = 2000000\n",
      "CC price after the pre-sale = 1.0 RLY\n"
     ]
    }
   ],
   "source": [
    "finalPrice_presale = _CCprice_presale\n",
    "\n",
    "print('CCs sold at a fixed price of '+ str(finalPrice_presale) + ' RLY during the pre-sale')\n",
    "\n",
    "print('\\nTotal CCs sold during pre-sale = ' + str(_CCsSold_presale) )\n",
    "print('Total RLY bonded to the TBC during pre-sale = ' + str(_RLY_Locked_presale) )\n",
    "print('CC price after the pre-sale = ' + str(finalPrice_presale) + ' RLY')"
   ]
  },
  {
   "cell_type": "markdown",
   "metadata": {},
   "source": [
    "##### Adding State after Pre-Sale"
   ]
  },
  {
   "cell_type": "code",
   "execution_count": 214,
   "metadata": {},
   "outputs": [],
   "source": [
    "def getNormalDistributionValues(mean, deviation, numberOfPoints) :\n",
    "    normalPoints_ =  np.random.normal(mean, deviation, numberOfPoints)\n",
    "    return normalPoints_"
   ]
  },
  {
   "cell_type": "code",
   "execution_count": 215,
   "metadata": {},
   "outputs": [],
   "source": [
    "def costOfMinting(price,prevCCSupply,newCCSupply): \n",
    "    dif = price*(newCCSupply - prevCCSupply) \n",
    "    return dif"
   ]
  },
  {
   "cell_type": "code",
   "execution_count": 216,
   "metadata": {
    "pycharm": {
     "is_executing": true
    }
   },
   "outputs": [],
   "source": [
    "currentSold = 100\n",
    "\n",
    "deltaSupplies = getNormalDistributionValues(1000, 1000,1000)\n",
    "i =0\n",
    "\n",
    "while currentSold < _CCsSold_presale: \n",
    "    cur_ = cur_ + deltaTime\n",
    "    \n",
    "    if i < 1000:\n",
    "        if deltaSupplies[i] > 0:\n",
    "            CC_deltaSupply = deltaSupplies[i]\n",
    "        i = i + 1\n",
    "    else :        \n",
    "        deltaSupplies = getNormalDistributionValues(1000, 1000,1000)\n",
    "        i = 0\n",
    "        if deltaSupplies[i] > 0:\n",
    "            CC_deltaSupply = deltaSupplies[i]\n",
    "\n",
    "    total_CCs_to_be_minted = df.loc[len(df.index)-1,'CC To be Minted'] - CC_deltaSupply\n",
    "    CC_totalSupply = df.loc[len(df.index)-1,'CCs : Total Supply'] + CC_deltaSupply\n",
    "    \n",
    "#     print('Total Supply = ' + str(CC_totalSupply) + '   Delta Supply = ' + str(CC_deltaSupply) )\n",
    "    \n",
    "    # functional calculation      \n",
    "    CC_price_RLY = _CCprice_presale\n",
    "    mintCost_RLY = costOfMinting(CC_price_RLY,df.loc[len(df.index)-1,'CCs : Total Supply'],CC_totalSupply)\n",
    "    \n",
    "    pos_depth_CC_minted = 0\n",
    "    pos_depth_RLY_locked = 0\n",
    "    pos_depth_RLY_per_CC = CC_price_RLY\n",
    "    neg_depth_CC_burnt = 0\n",
    "    neg_depth_RLY_unlocked = 0\n",
    "    neg_depth_RLY_per_CC = CC_price_RLY\n",
    "            \n",
    "    currentSold = currentSold + CC_deltaSupply\n",
    "    \n",
    "    RLY_DeltaLocked = mintCost_RLY # CC_deltaSupply * CC_price_RLY\n",
    "    RLY_TotalLocked = df.loc[len(df.index)-1,'RLY : Total Locked'] + RLY_DeltaLocked\n",
    "    total_RLY_to_be_locked = df.loc[len(df.index)-1,'RLY To be Locked'] - RLY_DeltaLocked\n",
    "    reserve_ratio = RLY_TotalLocked / CC_totalSupply\n",
    "    slope = 0\n",
    "\n",
    "    note = str(CC_deltaSupply) + ' CCs sold for ' + str(RLY_DeltaLocked) + ' RLY'\n",
    "\n",
    "    df.loc[len(df.index)] = [pd.to_datetime(cur_,format='%d/%m/%Y'), int((cur_ - unix).total_seconds()),\n",
    "                             slope,  total_CCs_to_be_minted,  total_RLY_to_be_locked,   CC_price_RLY, \n",
    "                             CC_deltaSupply,  CC_totalSupply,   RLY_DeltaLocked,   RLY_TotalLocked,   \n",
    "                             pos_depth_CC_minted,   pos_depth_RLY_locked,   pos_depth_RLY_per_CC,\n",
    "                             neg_depth_CC_burnt,   neg_depth_RLY_unlocked,   neg_depth_RLY_per_CC,\n",
    "                             reserve_ratio,   note]\n"
   ]
  },
  {
   "cell_type": "code",
   "execution_count": 217,
   "metadata": {
    "pycharm": {
     "is_executing": true
    }
   },
   "outputs": [],
   "source": [
    "# display(df)\n",
    "metrics = df"
   ]
  },
  {
   "cell_type": "code",
   "execution_count": 218,
   "metadata": {
    "pycharm": {
     "is_executing": true
    }
   },
   "outputs": [],
   "source": [
    "# plt.figure(figsize=(18,9))\n",
    "# plt.xticks(rotation=40)\n",
    "# plt.grid(linewidth=0.3)\n",
    "# plt.plot(metrics.loc[:,'CCs : Total Supply'],metrics.loc[:,'CCs : Price (RLY)'],label='CC price vs total CC supply')\n",
    "# plt.plot(metrics.loc[:,'CCs : Total Supply'],metrics.loc[:,'Reserve Ratio'],label='CC Reserve Ratio vs total CC supply')\n",
    "# plt.xlabel('Creator Coin : Total Supply (scale = 10 Million)',fontsize = 15)\n",
    "# plt.ylabel('Creator Coin : Price (RLY)',fontsize = 15)\n",
    "# plt.title('Price, Reserve Ratio vs Total Supply (CC PRE SALE)',fontsize = 19)\n",
    "# plt.legend()\n",
    "# plt.savefig('./images/large_CC_TBC/1_presale_Price_Reserve_Ratio_vs_Supply_PRESALE.png')"
   ]
  },
  {
   "cell_type": "code",
   "execution_count": 219,
   "metadata": {
    "pycharm": {
     "is_executing": true
    }
   },
   "outputs": [],
   "source": [
    "# plt.figure(figsize=(18,9))\n",
    "# plt.xticks(rotation=40)\n",
    "# plt.grid(linewidth=0.3)\n",
    "# plt.plot(metrics.loc[:,'CCs : Total Supply'],label='CCs : Total Supply')\n",
    "# plt.plot(metrics.loc[:,'RLY : Total Locked'],label='RLY : Total Locked')\n",
    "# plt.xlabel('timestamps (simulated)',fontsize = 15)\n",
    "# plt.ylabel('Total Supply (Millions)',fontsize = 15)\n",
    "# plt.title('Total Creator Coins, RLY Locked vs Time (CC PRE SALE)',fontsize = 19)\n",
    "# plt.legend()\n",
    "# plt.savefig('./images/large_CC_TBC/1_supplies_vs_time_PRESALE.png')"
   ]
  },
  {
   "cell_type": "code",
   "execution_count": 220,
   "metadata": {
    "pycharm": {
     "is_executing": true
    }
   },
   "outputs": [],
   "source": [
    "# plt.figure(figsize=(18,9))\n",
    "# plt.xticks(rotation=40)\n",
    "# plt.grid(linewidth=0.3)\n",
    "# plt.plot(metrics.loc[:,'CCs : Total Supply'],metrics.loc[:,'+2% depth: CCs Minted'],label='+2% depth: CCs Minted')\n",
    "# plt.plot(metrics.loc[:,'CCs : Total Supply'],metrics.loc[:,'+2% depth: RLY Locked'],label='+2% depth: RLY Locked')\n",
    "\n",
    "# plt.xlabel('CCs : Total Supply',fontsize = 15)\n",
    "# plt.ylabel('Delta Supply',fontsize = 15)\n",
    "# plt.title('+ 2% Market Depth : delta CCs minted, RLY Locked vs Total CC Supply (CC PRE SALE)',fontsize = 19)\n",
    "# plt.legend()\n",
    "# plt.savefig('./images/large_CC_TBC/1_posDepthDeltaCC_RLY_vs_TotalCCSupply_PRESALE.png')"
   ]
  },
  {
   "cell_type": "code",
   "execution_count": 221,
   "metadata": {
    "pycharm": {
     "is_executing": true
    }
   },
   "outputs": [],
   "source": [
    "# plt.figure(figsize=(18,9))\n",
    "# plt.xticks(rotation=40)\n",
    "# plt.grid(linewidth=0.3)\n",
    "# plt.plot(metrics.loc[:,'+2% depth: RLY Locked'],metrics.loc[:,'+2% depth: CCs Minted'],label='Delta RLY Locked vs Delta CC Minted')\n",
    "\n",
    "# plt.xlabel('Delta RLY Locked for +2% depth',fontsize = 15)\n",
    "# plt.ylabel('Delta CCs Minted for +2% depth',fontsize = 15)\n",
    "# plt.title('+2% depth : Delta RLY Locked vs Delta CCs Minted (CC PRE SALE)',fontsize = 19)\n",
    "# plt.legend()\n",
    "# plt.savefig('./images/large_CC_TBC/2_posDepth_DeltaCC_vs_DeltaRLY_PRESALE.png')"
   ]
  },
  {
   "cell_type": "code",
   "execution_count": 222,
   "metadata": {
    "pycharm": {
     "is_executing": true
    }
   },
   "outputs": [],
   "source": [
    "# plt.figure(figsize=(18,9))\n",
    "# plt.xticks(rotation=40)\n",
    "# plt.grid(linewidth=0.3)\n",
    "# plt.plot(metrics.loc[:,'CCs : Total Supply'],metrics.loc[:,'-2% depth: CCs Burnt'],label='-2% depth: CCs Burnt')\n",
    "# plt.plot(metrics.loc[:,'CCs : Total Supply'],metrics.loc[:,'-2% depth: RLY Un-Locked'],label='-2% depth: RLY Un-Locked')\n",
    "\n",
    "# plt.xlabel('CCs : Total Supply',fontsize = 15)\n",
    "# plt.ylabel('Total Supply (Millions)',fontsize = 15)\n",
    "# plt.title('- 2% Depth : delta CCs burnt, RLY Un-Locked vs Total CC Supply (CC PRE SALE)',fontsize = 19)\n",
    "# plt.legend()\n",
    "# plt.savefig('./images/large_CC_TBC/1_negDepthDeltaCC_RLY_vs_TotalCCSupply_PRESALE.png')"
   ]
  },
  {
   "cell_type": "code",
   "execution_count": 223,
   "metadata": {
    "pycharm": {
     "is_executing": true
    }
   },
   "outputs": [],
   "source": [
    "# plt.figure(figsize=(18,9))\n",
    "# plt.xticks(rotation=40)\n",
    "# plt.grid(linewidth=0.3)\n",
    "# plt.plot(metrics.loc[:,'-2% depth: RLY Un-Locked'],metrics.loc[:,'-2% depth: CCs Burnt'],label='Delta RLY Un-Locked vs Delta CC Burnt')\n",
    "\n",
    "# plt.xlabel('RLY Un-Locked for -2% depth',fontsize = 15)\n",
    "# plt.ylabel('CCs Burnt for -2% depth',fontsize = 15)\n",
    "# plt.title('-2% depth : Delta RLY un-Locked vs Delta CCs Burnt (CC PRE SALE)',fontsize = 19)\n",
    "# plt.legend()\n",
    "# plt.savefig('./images/large_CC_TBC/2_negDepth_DeltaCC_vs_DeltaRLY_PRESALE.png')"
   ]
  },
  {
   "cell_type": "markdown",
   "metadata": {},
   "source": [
    "## Market Maturity : Automated Liquidity via the Bonding Curve\n",
    "\n",
    "- CCs ca be bought / sold via the Bonding Curve.\n",
    "    y = mx + c"
   ]
  },
  {
   "cell_type": "code",
   "execution_count": 224,
   "metadata": {
    "pycharm": {
     "is_executing": true
    }
   },
   "outputs": [
    {
     "name": "stdout",
     "output_type": "stream",
     "text": [
      "Exchange pricing function for CC Market Maturity phase : CC price (RLY) = 1.9798033972940225e-06 * CCs Supply -12.860104744538216\n",
      "\n",
      "Total CCs sold during Market Maturity phase = 13999251.964370739\n",
      "Total RLY bonded to the TBC during Market Maturity phase = 207999251.9643709\n",
      "Final CC price : 28.715766598636257 RLY\n"
     ]
    }
   ],
   "source": [
    "Rly_to_be_locked = df.loc[len(df.index)-1,'RLY To be Locked']\n",
    "cc_price = df.loc[len(df.index)-1,'CCs : Price (RLY)']\n",
    "cc_current_supply = df.loc[len(df.index)-1,'CCs : Total Supply']\n",
    "\n",
    "\n",
    "CC_finalPrice = (Rly_to_be_locked - 0.5*cc_price*total_CC_Supply + 0.5*cc_price*cc_current_supply) / (0.5*total_CC_Supply - 0.5*cc_current_supply)\n",
    "\n",
    "slope1 = (CC_finalPrice - cc_price)/ (total_CC_Supply - cc_current_supply)\n",
    "constant1 = (cc_price*total_CC_Supply - CC_finalPrice*cc_current_supply) / (total_CC_Supply - cc_current_supply)\n",
    "\n",
    "\n",
    "print('Exchange pricing function for CC Market Maturity phase : CC price (RLY) = ' + str(slope1) + ' * CCs Supply ' + str(constant1) )\n",
    "\n",
    "print('\\nTotal CCs sold during Market Maturity phase = ' + str(df.loc[len(df.index)-1,'CC To be Minted']) )\n",
    "print('Total RLY bonded to the TBC during Market Maturity phase = ' + str(df.loc[len(df.index)-1,'RLY To be Locked']) )\n",
    "print('Final CC price : ' + str(CC_finalPrice) + ' RLY')"
   ]
  },
  {
   "cell_type": "code",
   "execution_count": 225,
   "metadata": {
    "pycharm": {
     "is_executing": true
    }
   },
   "outputs": [],
   "source": [
    "def costOfMinting(c,slope,prevCCSupply,newCCSupply): \n",
    "    # integral of m*x + c\n",
    "    dif = c*(newCCSupply - prevCCSupply) + 0.5*slope*(pow(newCCSupply,2)-pow(prevCCSupply,2)) \n",
    "    return dif"
   ]
  },
  {
   "cell_type": "code",
   "execution_count": 226,
   "metadata": {},
   "outputs": [],
   "source": [
    "_5_perc_analysis_df = pd.DataFrame([], columns = ['date', 'timestamp','CCs : Price (RLY)','CCs : Total Supply','RLY : Total Locked',\n",
    "                                                 '5% CCs Sold','RLY Unlocked','Price Impact (%)','RLY Unlocked (%)','New Price' ]) \n",
    "# _5_perc_analysis_df['date'] = pd.to_datetime(_5_perc_analysis_df['date'],format='%d/%m/%Y')\n",
    "\n"
   ]
  },
  {
   "cell_type": "code",
   "execution_count": null,
   "metadata": {},
   "outputs": [],
   "source": []
  },
  {
   "cell_type": "code",
   "execution_count": null,
   "metadata": {},
   "outputs": [],
   "source": []
  },
  {
   "cell_type": "code",
   "execution_count": null,
   "metadata": {},
   "outputs": [],
   "source": []
  },
  {
   "cell_type": "code",
   "execution_count": null,
   "metadata": {},
   "outputs": [],
   "source": []
  },
  {
   "cell_type": "code",
   "execution_count": null,
   "metadata": {},
   "outputs": [],
   "source": []
  },
  {
   "cell_type": "code",
   "execution_count": null,
   "metadata": {},
   "outputs": [],
   "source": []
  },
  {
   "cell_type": "code",
   "execution_count": 227,
   "metadata": {
    "pycharm": {
     "is_executing": true
    }
   },
   "outputs": [],
   "source": [
    "CCstobeMinted = df.loc[len(df.index)-1,'CC To be Minted']\n",
    "    \n",
    "deltaSupplies = getNormalDistributionValues(700, 1000,1000)\n",
    "i =0\n",
    "    \n",
    "while CCstobeMinted > 0:\n",
    "    cur_ = cur_ + deltaTime  # date updated\n",
    "\n",
    "    if i < 1000:\n",
    "        CC_deltaSupply = deltaSupplies[i]\n",
    "        i = i + 1\n",
    "    else :\n",
    "        deltaSupplies = getNormalDistributionValues(700, 1000,1000)\n",
    "        i = 0\n",
    "        CC_deltaSupply = deltaSupplies[i]\n",
    "    \n",
    "    total_CCs_to_be_minted = df.loc[len(df.index)-1,'CC To be Minted'] - CC_deltaSupply\n",
    "    CC_totalSupply = df.loc[len(df.index)-1,'CCs : Total Supply'] + CC_deltaSupply\n",
    "    \n",
    "    # functional calculation      \n",
    "    CC_price_RLY = slope1*CC_totalSupply + constant1\n",
    "    mintCost_RLY = costOfMinting(constant1,slope1,df.loc[len(df.index)-1,'CCs : Total Supply'],CC_totalSupply)\n",
    "\n",
    "    pos_depth_CC_minted = CC_price_RLY * 0.02 / slope1\n",
    "    pos_depth_RLY_locked = costOfMinting(constant1,slope1,CC_totalSupply, CC_totalSupply + pos_depth_CC_minted)\n",
    "    pos_depth_RLY_per_CC = round(pos_depth_RLY_locked/pos_depth_CC_minted,3)\n",
    "    neg_depth_CC_burnt = CC_price_RLY * 0.02 / slope1\n",
    "    neg_depth_RLY_unlocked = -1 * costOfMinting(constant1,slope1,CC_totalSupply, CC_totalSupply - neg_depth_CC_burnt)\n",
    "    neg_depth_RLY_per_CC = round(neg_depth_RLY_unlocked/neg_depth_CC_burnt,3)\n",
    " \n",
    "    RLY_DeltaLocked = mintCost_RLY\n",
    "    RLY_TotalLocked = df.loc[len(df.index)-1,'RLY : Total Locked'] + RLY_DeltaLocked\n",
    "    total_RLY_to_be_locked = df.loc[len(df.index)-1,'RLY To be Locked'] - RLY_DeltaLocked\n",
    "    reserve_ratio = RLY_TotalLocked / CC_totalSupply\n",
    "    \n",
    "    # 5% CCs sold Analysis\n",
    "    _5_per_tot_sup = .05 * CC_totalSupply     # 5 % of total supply\n",
    "    sell_5_per_tot_sup_new_price = slope1*(CC_totalSupply - _5_per_tot_sup) + constant1\n",
    "    sell_5_per_tot_sup_price_impact = 100 * (CC_price_RLY - sell_5_per_tot_sup_new_price)/CC_price_RLY\n",
    "    sell_5_per_RLY_unlocked = -1 * costOfMinting(constant1, slope1, CC_totalSupply, CC_totalSupply - _5_per_tot_sup )\n",
    "    sell_5_per_RLY_unlocked_per_tot_locked = 100 * (sell_5_per_RLY_unlocked)/RLY_TotalLocked\n",
    "\n",
    "    \n",
    "    \n",
    "    note = 'Mint Transaction'\n",
    "\n",
    "    df.loc[len(df.index)] = [pd.to_datetime(cur_,format='%d/%m/%Y'),int((cur_ - unix).total_seconds()),\n",
    "                             slope1,total_CCs_to_be_minted,total_RLY_to_be_locked, CC_price_RLY, CC_deltaSupply, CC_totalSupply,\n",
    "                             RLY_DeltaLocked,RLY_TotalLocked,pos_depth_CC_minted,pos_depth_RLY_locked,pos_depth_RLY_per_CC,\n",
    "                             neg_depth_CC_burnt,neg_depth_RLY_unlocked,neg_depth_RLY_per_CC,\n",
    "                             reserve_ratio,note]\n",
    "    \n",
    "    \n",
    "    _5_perc_analysis_df.loc[len(_5_perc_analysis_df.index)] = [ pd.to_datetime(cur_,format='%d/%m/%Y'),int((cur_ - unix).total_seconds()),\n",
    "                                                            CC_price_RLY , CC_totalSupply, RLY_TotalLocked, _5_per_tot_sup, sell_5_per_RLY_unlocked, sell_5_per_tot_sup_price_impact, \n",
    "                                                            sell_5_per_RLY_unlocked_per_tot_locked , sell_5_per_tot_sup_new_price  ]\n",
    "    \n",
    "    CCstobeMinted = df.loc[len(df.index)-1,'CC To be Minted']"
   ]
  },
  {
   "cell_type": "code",
   "execution_count": 228,
   "metadata": {
    "pycharm": {
     "is_executing": true
    }
   },
   "outputs": [],
   "source": [
    "# display(df)\n",
    "metrics = df"
   ]
  },
  {
   "cell_type": "code",
   "execution_count": 229,
   "metadata": {
    "pycharm": {
     "is_executing": true
    }
   },
   "outputs": [],
   "source": [
    "# df.tail(4)"
   ]
  },
  {
   "cell_type": "code",
   "execution_count": 230,
   "metadata": {
    "pycharm": {
     "is_executing": true
    }
   },
   "outputs": [
    {
     "data": {
      "text/plain": [
       "<matplotlib.legend.Legend at 0x7fba7656d9a0>"
      ]
     },
     "execution_count": 230,
     "metadata": {},
     "output_type": "execute_result"
    },
    {
     "data": {
      "image/png": "[encoded data removed]",
      "text/plain": [
       "<Figure size 1296x648 with 1 Axes>"
      ]
     },
     "metadata": {
      "needs_background": "light"
     },
     "output_type": "display_data"
    }
   ],
   "source": [
    "plt.figure(figsize=(18,9))\n",
    "plt.xticks(rotation=40)\n",
    "plt.grid(linewidth=0.3)\n",
    "plt.plot(metrics.loc[:,'CCs : Total Supply'],metrics.loc[:,'CCs : Price (RLY)'],label='CC price vs total CC supply')\n",
    "plt.xlabel('Creator Coin : Total Supply (scale = 10 Million)',fontsize = 15)\n",
    "plt.ylabel('Creator Coin : Price (RLY)',fontsize = 15)\n",
    "plt.title('Linear TBC : Price vs Total Supply',fontsize = 21)\n",
    "plt.legend()\n",
    "# plt.savefig('./images/large_CC_TBC/1_Price_vs_Supply.png')"
   ]
  },
  {
   "cell_type": "code",
   "execution_count": 231,
   "metadata": {
    "pycharm": {
     "is_executing": true
    }
   },
   "outputs": [],
   "source": [
    "# plt.figure(figsize=(18,9))\n",
    "# plt.xticks(rotation=40)\n",
    "# plt.grid(linewidth=0.3)\n",
    "# plt.plot(metrics.loc[:,'CCs : Total Supply'],metrics.loc[:,'CCs : Price (RLY)'],label='CC price vs total CC supply')\n",
    "# plt.plot(metrics.loc[:,'CCs : Total Supply'],metrics.loc[:,'Reserve Ratio'],label='CC Reserve Ratio vs total CC supply')\n",
    "\n",
    "# plt.xlabel('Creator Coin : Total Supply (scale = 10 Million)',fontsize = 15)\n",
    "# plt.ylabel('Creator Coin : Price (RLY)',fontsize = 15)\n",
    "# plt.title('Price, Reserve Ratio vs Total Supply',fontsize = 19)\n",
    "# plt.legend()\n",
    "# plt.savefig('./images/large_CC_TBC/1_Price_Reserve_Ratio_vs_Supply.png')"
   ]
  },
  {
   "cell_type": "code",
   "execution_count": 232,
   "metadata": {
    "pycharm": {
     "is_executing": true
    }
   },
   "outputs": [
    {
     "data": {
      "text/plain": [
       "<matplotlib.legend.Legend at 0x7fba76578730>"
      ]
     },
     "execution_count": 232,
     "metadata": {},
     "output_type": "execute_result"
    },
    {
     "data": {
      "image/png": "[encoded data removed]",
      "text/plain": [
       "<Figure size 1080x504 with 2 Axes>"
      ]
     },
     "metadata": {
      "needs_background": "light"
     },
     "output_type": "display_data"
    }
   ],
   "source": [
    "fig,ax = plt.subplots(figsize=(15, 7))\n",
    "plt.xticks(rotation=45)\n",
    "plt.title('Price, Reserve Ratio vs Total Supply',fontsize = 19)\n",
    "\n",
    "ax.plot(metrics.loc[:,'CCs : Total Supply'],metrics.loc[:,'CCs : Price (RLY)'],'-r',label=\"CC price (RLY)\")\n",
    "ax.set_xlabel(\"Creator Coin : Total Supply\",fontsize=14)\n",
    "ax.set_ylabel(\"CC price (RLY)\",fontsize=14)\n",
    "ax.legend(loc='upper left')\n",
    "ax.grid(True)\n",
    "\n",
    "ax2=ax.twinx()\n",
    "ax2.plot(metrics.loc[:,'CCs : Total Supply'],metrics.loc[:,'Reserve Ratio'],'-b',label=\"CC Reserve Ratio (RLY)\")\n",
    "ax2.set_ylabel(\"CC Reserve Ratio (RLY)\",fontsize=14)\n",
    "ax2.legend(loc='upper right')"
   ]
  },
  {
   "cell_type": "code",
   "execution_count": 233,
   "metadata": {
    "pycharm": {
     "is_executing": true
    }
   },
   "outputs": [],
   "source": [
    "# plt.figure(figsize=(18,9))\n",
    "# plt.xticks(rotation=40)\n",
    "# plt.grid(linewidth=0.3)\n",
    "# plt.plot(metrics.loc[:,'CCs : Total Supply'],label='CCs : Total Supply')\n",
    "# plt.plot(metrics.loc[:,'RLY : Total Locked'],label='RLY : Total Locked')\n",
    "# plt.xlabel('timestamps (simulated)',fontsize = 15)\n",
    "# plt.ylabel('Total Supply (Millions)',fontsize = 15)\n",
    "# plt.title('Total Creator Coins, RLY Locked vs Time',fontsize = 19)\n",
    "# plt.legend()\n",
    "# plt.savefig('./images/large_CC_TBC/1_supplies_vs_time.png')"
   ]
  },
  {
   "cell_type": "code",
   "execution_count": 234,
   "metadata": {
    "pycharm": {
     "is_executing": true
    }
   },
   "outputs": [
    {
     "data": {
      "text/plain": [
       "<matplotlib.legend.Legend at 0x7fbaa4056730>"
      ]
     },
     "execution_count": 234,
     "metadata": {},
     "output_type": "execute_result"
    },
    {
     "data": {
      "image/png": "[encoded data removed]",
      "text/plain": [
       "<Figure size 1080x504 with 2 Axes>"
      ]
     },
     "metadata": {
      "needs_background": "light"
     },
     "output_type": "display_data"
    }
   ],
   "source": [
    "fig,ax = plt.subplots(figsize=(15, 7))\n",
    "plt.xticks(rotation=45)\n",
    "plt.title('Linear TBC : Total CC supply, RLY locked over time',fontsize = 19)\n",
    "\n",
    "ax.plot( metrics['CCs : Total Supply'], '-r',label=\"CCs : Total Supply\", marker=\".\")\n",
    "ax.set_xlabel(\"timestamps (simulated)\",fontsize=14)\n",
    "ax.set_ylabel(\"Total Supply (Millions)\",fontsize=14)\n",
    "ax.legend(loc='upper left')\n",
    "ax.grid(True)\n",
    "\n",
    "ax2=ax.twinx()\n",
    "ax2.plot( metrics['RLY : Total Locked'],'-b',label=\"RLY : Total Locked\",marker=\".\")\n",
    "ax2.set_ylabel(\"RLY : Total Locked\",fontsize=14)\n",
    "ax2.legend(loc='upper right')"
   ]
  },
  {
   "cell_type": "code",
   "execution_count": 235,
   "metadata": {
    "pycharm": {
     "is_executing": true
    }
   },
   "outputs": [],
   "source": [
    "# metrics[metrics['RLY : Total Locked'] >= 500000 ]"
   ]
  },
  {
   "cell_type": "code",
   "execution_count": 236,
   "metadata": {
    "pycharm": {
     "is_executing": true
    }
   },
   "outputs": [],
   "source": [
    "# plt.figure(figsize=(18,9))\n",
    "# plt.xticks(rotation=40)\n",
    "# plt.grid(linewidth=0.3)\n",
    "# plt.plot(metrics.loc[:,'CCs : Total Supply'],metrics.loc[:,'+2% depth: CCs Minted'],label='+2% depth: CCs Minted')\n",
    "# plt.plot(metrics.loc[:,'CCs : Total Supply'],metrics.loc[:,'+2% depth: RLY Locked'],label='+2% depth: RLY Locked')\n",
    "\n",
    "# plt.xlabel('CCs : Total Supply',fontsize = 15)\n",
    "# plt.ylabel('Delta Supply (Millions)',fontsize = 15)\n",
    "# plt.title('+ 2% Market Depth : delta CCs minted, RLY Locked vs Total CC Supply',fontsize = 19)\n",
    "# plt.legend()\n",
    "# plt.savefig('./images/large_CC_TBC/1_posDepthDeltaCC_RLY_vs_TotalCCSupply.png')"
   ]
  },
  {
   "cell_type": "code",
   "execution_count": 237,
   "metadata": {
    "pycharm": {
     "is_executing": true
    }
   },
   "outputs": [
    {
     "data": {
      "text/plain": [
       "<matplotlib.legend.Legend at 0x7fbaa3a4d0a0>"
      ]
     },
     "execution_count": 237,
     "metadata": {},
     "output_type": "execute_result"
    },
    {
     "data": {
      "image/png": "[encoded data removed]",
      "text/plain": [
       "<Figure size 1080x504 with 2 Axes>"
      ]
     },
     "metadata": {
      "needs_background": "light"
     },
     "output_type": "display_data"
    }
   ],
   "source": [
    "fig,ax = plt.subplots(figsize=(15, 7))\n",
    "plt.xticks(rotation=45)\n",
    "plt.title('Linear TBC : 2% Price Depth',fontsize = 19)\n",
    "\n",
    "ax.plot( metrics['CCs : Total Supply'],metrics['+2% depth: CCs Minted'], '-r',label=\"+2% depth: CCs Minted\")\n",
    "ax.set_xlabel(\"CCs : Total Supply\",fontsize=14)\n",
    "ax.set_ylabel(\"CCs Minted per 2% price increase\",fontsize=14)\n",
    "ax.legend(loc='upper left')\n",
    "ax.grid(True)\n",
    "\n",
    "ax2=ax.twinx()\n",
    "ax2.plot( metrics['CCs : Total Supply'],metrics.loc[:,'+2% depth: RLY Locked'],'-b',label=\"+2% depth: RLY Locked\")\n",
    "ax2.set_ylabel(\"RLY Locked per 2% price increase\",fontsize=14)\n",
    "ax2.legend(loc='upper right')"
   ]
  },
  {
   "cell_type": "code",
   "execution_count": null,
   "metadata": {
    "pycharm": {
     "is_executing": true
    }
   },
   "outputs": [],
   "source": []
  },
  {
   "cell_type": "code",
   "execution_count": 238,
   "metadata": {
    "pycharm": {
     "is_executing": true
    }
   },
   "outputs": [
    {
     "data": {
      "text/plain": [
       "<matplotlib.legend.Legend at 0x7fbaa3a414c0>"
      ]
     },
     "execution_count": 238,
     "metadata": {},
     "output_type": "execute_result"
    },
    {
     "data": {
      "image/png": "[encoded data removed]",
      "text/plain": [
       "<Figure size 1296x648 with 1 Axes>"
      ]
     },
     "metadata": {
      "needs_background": "light"
     },
     "output_type": "display_data"
    }
   ],
   "source": [
    "plt.figure(figsize=(18,9))\n",
    "plt.xticks(rotation=40)\n",
    "plt.grid(linewidth=0.3)\n",
    "plt.plot(metrics.loc[:,'+2% depth: RLY Locked'],metrics.loc[:,'+2% depth: CCs Minted'],label='Delta RLY Locked vs Delta CC Minted')\n",
    "\n",
    "plt.xlabel('Delta RLY Locked per 2% price increase',fontsize = 15)\n",
    "plt.ylabel('Delta CCs Minted per 2% price increase',fontsize = 15)\n",
    "plt.title('Linear TBC : 2% Price Depth - Delpta CCs minted against Delta RLY Locked',fontsize = 19)\n",
    "plt.legend()\n",
    "# plt.savefig('./images/large_CC_TBC/1_posDepth_DeltaCC_vs_DeltaRLY.png')"
   ]
  },
  {
   "cell_type": "code",
   "execution_count": 239,
   "metadata": {
    "pycharm": {
     "is_executing": true
    }
   },
   "outputs": [],
   "source": [
    "# plt.figure(figsize=(18,9))\n",
    "# plt.xticks(rotation=40)\n",
    "# plt.grid(linewidth=0.3)\n",
    "# plt.plot(metrics.loc[:,'CCs : Total Supply'],metrics.loc[:,'-2% depth: CCs Burnt'],label='-2% depth: CCs Burnt')\n",
    "# plt.plot(metrics.loc[:,'CCs : Total Supply'],metrics.loc[:,'-2% depth: RLY Un-Locked'],label='-2% depth: RLY Un-Locked')\n",
    "\n",
    "# plt.xlabel('CCs : Total Supply',fontsize = 15)\n",
    "# plt.ylabel('Delta Supply (Millions)',fontsize = 15)\n",
    "# plt.title('- 2% Depth : delta CCs burnt, RLY Un-Locked vs Total CC Supply',fontsize = 19)\n",
    "# plt.legend()\n",
    "# plt.savefig('./images/large_CC_TBC/1_negDepthDeltaCC_RLY_vs_TotalCCSupply.png')"
   ]
  },
  {
   "cell_type": "code",
   "execution_count": 240,
   "metadata": {
    "pycharm": {
     "is_executing": true
    }
   },
   "outputs": [
    {
     "data": {
      "text/plain": [
       "<matplotlib.legend.Legend at 0x7fbaa4248070>"
      ]
     },
     "execution_count": 240,
     "metadata": {},
     "output_type": "execute_result"
    },
    {
     "data": {
      "image/png": "[encoded data removed]",
      "text/plain": [
       "<Figure size 1080x504 with 2 Axes>"
      ]
     },
     "metadata": {
      "needs_background": "light"
     },
     "output_type": "display_data"
    }
   ],
   "source": [
    "fig,ax = plt.subplots(figsize=(15, 7))\n",
    "plt.xticks(rotation=45)\n",
    "plt.title('Linear TBC : -2% Price Depth',fontsize = 19)\n",
    "\n",
    "ax.plot( metrics['CCs : Total Supply'],metrics['-2% depth: CCs Burnt'], '-r',label=\"-2% depth: CCs Burnt\")\n",
    "ax.set_xlabel(\"CCs : Total Supply\",fontsize=14)\n",
    "ax.set_ylabel(\"CCs Minted per 2% price decrease\",fontsize=14)\n",
    "ax.legend(loc='upper left')\n",
    "ax.grid(True)\n",
    "\n",
    "ax2=ax.twinx()\n",
    "ax2.plot( metrics['CCs : Total Supply'],metrics.loc[:,'-2% depth: RLY Un-Locked'],'-b',label=\"-2% depth: RLY Un-Locked\")\n",
    "ax2.set_ylabel(\"RLY Locked per 2% price decrease\",fontsize=14)\n",
    "ax2.legend(loc='upper right')"
   ]
  },
  {
   "cell_type": "code",
   "execution_count": 241,
   "metadata": {
    "pycharm": {
     "is_executing": true
    }
   },
   "outputs": [
    {
     "data": {
      "text/plain": [
       "<matplotlib.legend.Legend at 0x7fba75e37a60>"
      ]
     },
     "execution_count": 241,
     "metadata": {},
     "output_type": "execute_result"
    },
    {
     "data": {
      "image/png": "[encoded data removed]",
      "text/plain": [
       "<Figure size 1296x648 with 1 Axes>"
      ]
     },
     "metadata": {
      "needs_background": "light"
     },
     "output_type": "display_data"
    }
   ],
   "source": [
    "plt.figure(figsize=(18,9))\n",
    "plt.xticks(rotation=40)\n",
    "plt.grid(linewidth=0.3)\n",
    "plt.plot(metrics.loc[:,'-2% depth: RLY Un-Locked'],metrics.loc[:,'-2% depth: CCs Burnt'],label='Delta RLY Un-Locked vs Delta CC Burnt')\n",
    "\n",
    "plt.xlabel('RLY Un-Locked for 2% price decrease',fontsize = 15)\n",
    "plt.ylabel('CCs Burnt for 2% price decrease',fontsize = 15)\n",
    "plt.title('Linear TBC : -2% Price Depth- Delta RLY un-Locked vs Delta CCs Burnt',fontsize = 19)\n",
    "plt.legend()\n",
    "# plt.savefig('./images/large_CC_TBC/1_negDepth_DeltaCC_vs_DeltaRLY.png')"
   ]
  },
  {
   "cell_type": "code",
   "execution_count": null,
   "metadata": {},
   "outputs": [],
   "source": []
  },
  {
   "cell_type": "code",
   "execution_count": 262,
   "metadata": {},
   "outputs": [],
   "source": [
    "# _5_perc_analysis_df"
   ]
  },
  {
   "cell_type": "code",
   "execution_count": null,
   "metadata": {},
   "outputs": [],
   "source": []
  },
  {
   "cell_type": "code",
   "execution_count": 251,
   "metadata": {},
   "outputs": [
    {
     "data": {
      "image/png": "[encoded data removed]",
      "text/plain": [
       "<Figure size 1080x504 with 2 Axes>"
      ]
     },
     "metadata": {
      "needs_background": "light"
     },
     "output_type": "display_data"
    }
   ],
   "source": [
    "fig,ax = plt.subplots(figsize=(15, 7))\n",
    "plt.xticks(rotation=45)\n",
    "plt.title('Linear TBC : 5% CCs supply sold - Impact analysis ',fontsize = 19)\n",
    "\n",
    "ax.plot( _5_perc_analysis_df['CCs : Total Supply'],_5_perc_analysis_df['5% CCs Sold'], '-r',label=\"CCs Sold\")\n",
    "ax.set_xlabel(\"CCs : Total Supply\",fontsize=14)\n",
    "ax.set_ylabel(\"CCs sold\",fontsize=14)\n",
    "ax.legend(loc='upper left')\n",
    "ax.grid(True)\n",
    "ax.ticklabel_format(useOffset=False, style='plain')\n",
    "\n",
    "ax2=ax.twinx()\n",
    "ax2.plot( _5_perc_analysis_df['CCs : Total Supply'],_5_perc_analysis_df.loc[:,'RLY Unlocked'],'-b',label=\"RLY Unlocked\")\n",
    "ax2.set_ylabel(\"RLY UnLocked if 5% of CC Supply is sold\",fontsize=14)\n",
    "ax2.legend(loc='upper right')\n",
    "ax2.ticklabel_format(useOffset=False, style='plain')"
   ]
  },
  {
   "cell_type": "code",
   "execution_count": 250,
   "metadata": {},
   "outputs": [
    {
     "data": {
      "image/png": "[encoded data removed]",
      "text/plain": [
       "<Figure size 1080x504 with 2 Axes>"
      ]
     },
     "metadata": {
      "needs_background": "light"
     },
     "output_type": "display_data"
    }
   ],
   "source": [
    "fig,ax = plt.subplots(figsize=(15, 7))\n",
    "plt.xticks(rotation=45)\n",
    "plt.title('Linear TBC : 5% CCs supply sold - Impact analysis ',fontsize = 19)\n",
    "\n",
    "ax.plot( _5_perc_analysis_df['CCs : Total Supply'],_5_perc_analysis_df['Price Impact (%)'], '-r',label=\"Price Decrease (%)\")\n",
    "ax.set_xlabel(\"CCs : Total Supply\",fontsize=14)\n",
    "ax.set_ylabel(\"Price decrease (%)\",fontsize=14)\n",
    "ax.legend(loc='upper left')\n",
    "ax.grid(True)\n",
    "ax.ticklabel_format(useOffset=False, style='plain')\n",
    "\n",
    "ax2=ax.twinx()\n",
    "ax2.plot( _5_perc_analysis_df['CCs : Total Supply'],_5_perc_analysis_df.loc[:,'RLY Unlocked (%)'],'-b',label=\"RLY Unlocked (%)\")\n",
    "ax2.set_ylabel(\"RLY UnLocked (%) if 5% of CC Supply is sold\",fontsize=14)\n",
    "ax2.legend(loc='upper right')\n",
    "ax2.ticklabel_format(useOffset=False, style='plain')"
   ]
  },
  {
   "cell_type": "code",
   "execution_count": 247,
   "metadata": {},
   "outputs": [],
   "source": [
    "pd.options.display.float_format = '{:,.3f}'.format"
   ]
  },
  {
   "cell_type": "code",
   "execution_count": 249,
   "metadata": {},
   "outputs": [],
   "source": []
  },
  {
   "cell_type": "code",
   "execution_count": 261,
   "metadata": {},
   "outputs": [
    {
     "data": {
      "image/png": "[encoded data removed]",
      "text/plain": [
       "<Figure size 1080x504 with 1 Axes>"
      ]
     },
     "metadata": {
      "needs_background": "light"
     },
     "output_type": "display_data"
    }
   ],
   "source": [
    "fig,ax = plt.subplots(figsize=(15, 7))\n",
    "plt.xticks(rotation=45)\n",
    "plt.title('Linear TBC : 5% CCs supply sold - Price Impact ',fontsize = 19)\n",
    "\n",
    "ax.plot( _5_perc_analysis_df.loc[:,'CCs : Total Supply'],_5_perc_analysis_df.loc[:,'CCs : Price (RLY)'], '-r',label=\"Price before 5% CC sell tx\")\n",
    "ax.plot( _5_perc_analysis_df.loc[:,'CCs : Total Supply'],_5_perc_analysis_df.loc[:,'New Price'], '-b',label=\"Price after 5% CC sell tx\")\n",
    "ax.set_xlabel(\"CCs : Total Supply\",fontsize=14)\n",
    "ax.set_ylabel(\"CC Price (RLY)\",fontsize=14)\n",
    "ax.legend(loc='upper left')\n",
    "ax.grid(True)\n",
    "ax.ticklabel_format(useOffset=False, style='plain')\n",
    "\n",
    "# ax2=ax.twinx()\n",
    "# ax2.plot( _5_perc_analysis_df.loc[0:100,'CCs : Total Supply'],_5_perc_analysis_df.loc[0:100,'New Price'],'-b',label=\"Price after 5% CC sell tx\")\n",
    "# ax2.set_ylabel(\"Price after 5% CC sell tx\",fontsize=14)\n",
    "# ax2.legend(loc='upper right')\n",
    "# ax2.ticklabel_format(useOffset=False, style='plain')"
   ]
  },
  {
   "cell_type": "code",
   "execution_count": null,
   "metadata": {},
   "outputs": [],
   "source": []
  },
  {
   "cell_type": "code",
   "execution_count": null,
   "metadata": {},
   "outputs": [],
   "source": []
  },
  {
   "cell_type": "code",
   "execution_count": null,
   "metadata": {},
   "outputs": [],
   "source": []
  },
  {
   "cell_type": "code",
   "execution_count": null,
   "metadata": {},
   "outputs": [],
   "source": []
  },
  {
   "cell_type": "code",
   "execution_count": null,
   "metadata": {},
   "outputs": [],
   "source": []
  },
  {
   "cell_type": "code",
   "execution_count": null,
   "metadata": {},
   "outputs": [],
   "source": []
  },
  {
   "cell_type": "code",
   "execution_count": null,
   "metadata": {},
   "outputs": [],
   "source": []
  },
  {
   "cell_type": "code",
   "execution_count": null,
   "metadata": {},
   "outputs": [],
   "source": []
  },
  {
   "cell_type": "code",
   "execution_count": null,
   "metadata": {},
   "outputs": [],
   "source": []
  },
  {
   "cell_type": "code",
   "execution_count": 185,
   "metadata": {
    "pycharm": {
     "is_executing": true
    }
   },
   "outputs": [],
   "source": [
    "def num(x):\n",
    "    f = round(x / 1000000,2)\n",
    "    st = str(f) + ' M'\n",
    "    return st"
   ]
  },
  {
   "cell_type": "code",
   "execution_count": null,
   "metadata": {
    "pycharm": {
     "is_executing": true
    }
   },
   "outputs": [],
   "source": [
    "# display(df)\n",
    "metrics = df"
   ]
  },
  {
   "cell_type": "code",
   "execution_count": null,
   "metadata": {
    "pycharm": {
     "is_executing": true
    }
   },
   "outputs": [],
   "source": [
    "aggregatedDF = pd.DataFrame([], columns = ['Range','CC minted (prev)','CC minted (new)','Delta RLY Locked']) \n",
    "CCminted = 0\n",
    "i = 0 \n",
    "\n",
    "depthFigures = pd.DataFrame([], columns = ['CCs : Total Supply','CCs : Price (RLY)',\n",
    "                                 '+2% depth: CCs Minted','+2% depth: RLY Locked',\n",
    "                                 '-2% depth: CCs Burnt','-2% depth: RLY Un-Locked',\n",
    "                                 'Reserve Ratio']) \n",
    "\n",
    "while CCminted < 21000000:\n",
    "    cur_CC = 0\n",
    "    RLY_locked_window = 0\n",
    "    \n",
    "    while cur_CC < 1000000 and i < len(metrics.index): \n",
    "        cur_CC = cur_CC + metrics.loc[i,'CCs : Delta Supply']\n",
    "        RLY_locked_window = RLY_locked_window + metrics.loc[i,'RLY : Delta Locked'] \n",
    "        i = i + 1\n",
    "#         print( 'current CCs = ' + str(round(cur_CC,2)) + ' RLY locked window = ' + str(round(RLY_locked_window,2)) + ' i = ' + str(i) )\n",
    "        \n",
    "    aggregatedDF.loc[len(aggregatedDF.index)] = [num(CCminted) + ' - ' + num(CCminted + cur_CC),CCminted,CCminted + cur_CC, RLY_locked_window]\n",
    "#     aggregatedDF.loc[len(aggregatedDF.index)] = [str(round(CCminted,2)) + '-' + str(round(CCminted + cur_CC,2)),CCminted,CCminted + cur_CC, RLY_locked_window]\n",
    "    \n",
    "    if i >= len(metrics.index):\n",
    "        i = i - 1\n",
    "        \n",
    "    depthFigures.loc[len(depthFigures.index)] = metrics.loc[i,['CCs : Total Supply','CCs : Price (RLY)',\n",
    "                                 '+2% depth: CCs Minted','+2% depth: RLY Locked',\n",
    "                                 '-2% depth: CCs Burnt','-2% depth: RLY Un-Locked',\n",
    "                                 'Reserve Ratio']]\n",
    "    \n",
    "    CCminted = CCminted + cur_CC   \n",
    "    \n",
    "depthFigures.loc[len(depthFigures.index)] = metrics.loc[len(metrics.index) - 1,['CCs : Total Supply','CCs : Price (RLY)',\n",
    "                                 '+2% depth: CCs Minted','+2% depth: RLY Locked',\n",
    "                                 '-2% depth: CCs Burnt','-2% depth: RLY Un-Locked',\n",
    "                                 'Reserve Ratio']]    \n",
    "    \n",
    "    "
   ]
  },
  {
   "cell_type": "code",
   "execution_count": null,
   "metadata": {
    "pycharm": {
     "is_executing": true
    }
   },
   "outputs": [],
   "source": [
    "fig = aggregatedDF.plot.bar(x='Range',y='Delta RLY Locked',xlabel='CCs Minted (Range)',\n",
    "\n",
    "                            ylabel='Delta RLY Locked (scale = 10 Million)', figsize=(12,9) ).get_figure()"
   ]
  },
  {
   "cell_type": "code",
   "execution_count": null,
   "metadata": {
    "pycharm": {
     "is_executing": true
    }
   },
   "outputs": [],
   "source": [
    "pd.options.display.float_format = '{:.2f}'.format\n",
    "display(depthFigures)"
   ]
  },
  {
   "cell_type": "code",
   "execution_count": null,
   "metadata": {
    "pycharm": {
     "is_executing": true
    }
   },
   "outputs": [],
   "source": [
    "depthFigures.loc[len(depthFigures.index)] = metrics.loc[len(metrics.index) - 1,['CCs : Total Supply','CCs : Price (RLY)',\n",
    "                                 '+2% depth: CCs Minted','+2% depth: RLY Locked',\n",
    "                                 '-2% depth: CCs Burnt','-2% depth: RLY Un-Locked',\n",
    "                                 'Reserve Ratio']]    "
   ]
  },
  {
   "cell_type": "code",
   "execution_count": null,
   "metadata": {
    "pycharm": {
     "is_executing": true
    }
   },
   "outputs": [],
   "source": [
    "# fig.savefig('./images/large_CC_TBC/1_delta_RLY_locked_perMillionCC.png')"
   ]
  },
  {
   "cell_type": "code",
   "execution_count": null,
   "metadata": {
    "pycharm": {
     "is_executing": true
    }
   },
   "outputs": [],
   "source": [
    "# display(df)"
   ]
  },
  {
   "cell_type": "code",
   "execution_count": null,
   "metadata": {
    "pycharm": {
     "is_executing": true
    }
   },
   "outputs": [],
   "source": []
  },
  {
   "cell_type": "code",
   "execution_count": null,
   "metadata": {
    "pycharm": {
     "is_executing": true
    }
   },
   "outputs": [],
   "source": []
  },
  {
   "cell_type": "code",
   "execution_count": null,
   "metadata": {
    "pycharm": {
     "is_executing": true
    }
   },
   "outputs": [],
   "source": []
  },
  {
   "cell_type": "markdown",
   "metadata": {},
   "source": [
    "# TBC Template #2 : Linear curve for pre-sale and market maturity phase\n",
    "\n",
    "Brief description of different market phases supported by this template are mentioned below -\n",
    "\n",
    "![TBC Template #2 : Linear curve for pre-sale and market maturity phase](./curves/template2.png)\n",
    "\n",
    "- Genesis Mint : CCs minted against minimal RLY locked\n",
    "- Pre-Sale - Liquidity provided by a linear exchange pricing function, y = m*x + c\n",
    "- Market Maturity - Liquidity provided by an exchange pricing function, y = m*x + c\n",
    "\n",
    "The max supply of Creator Coins that can be minted is capped."
   ]
  },
  {
   "cell_type": "code",
   "execution_count": null,
   "metadata": {
    "pycharm": {
     "is_executing": true
    }
   },
   "outputs": [],
   "source": [
    "# Parameters\n",
    "total_CC_Supply = 21000000            # 21 Million\n",
    "RLY_total_locked_target = 210000000   # 210 Million\n",
    "\n",
    "genesis_supply = 5000000 # 5 Million\n",
    "totalRallyLocked = 0    \n",
    "\n",
    "# Pre-Sale Parameters\n",
    "_CCsSold_presale = 2000000  # 2 Million\n",
    "_RLY_Locked_presale = 2000000 # 2 Million"
   ]
  },
  {
   "cell_type": "code",
   "execution_count": null,
   "metadata": {
    "pycharm": {
     "is_executing": true
    }
   },
   "outputs": [],
   "source": [
    "df = pd.DataFrame([], columns = ['date', 'timestamp','slope','CC To be Minted','RLY To be Locked',\n",
    "                                 'CCs : Price (RLY)','CCs : Delta Supply','CCs : Total Supply',\n",
    "                                 'RLY : Delta Locked','RLY : Total Locked',\n",
    "                                 '+2% depth: CCs Minted','+2% depth: RLY Locked',\n",
    "                                 '-2% depth: CCs Burnt','-2% depth: RLY Un-Locked',\n",
    "                                 'Reserve Ratio','Note']) \n",
    "df['date'] = pd.to_datetime(df['date'],format='%d/%m/%Y')\n",
    "\n",
    "unix = datetime(1970, 1, 1)\n",
    "cur_  = datetime(2021, 1, 1)\n",
    "\n",
    "deltaTime = timedelta(minutes=1)"
   ]
  },
  {
   "cell_type": "markdown",
   "metadata": {},
   "source": [
    "##### Adding first row (Phase 0)"
   ]
  },
  {
   "cell_type": "code",
   "execution_count": null,
   "metadata": {
    "pycharm": {
     "is_executing": true
    }
   },
   "outputs": [],
   "source": [
    "df.loc[0] = [pd.to_datetime(cur_,format='%d/%m/%Y'),int((cur_ - unix).total_seconds()),0,total_CC_Supply,RLY_total_locked_target\n",
    "                         ,0,0,0,0,0,0,0,0,0,0, 'Phase 0']"
   ]
  },
  {
   "cell_type": "code",
   "execution_count": null,
   "metadata": {
    "pycharm": {
     "is_executing": true
    }
   },
   "outputs": [],
   "source": [
    "# display(df)"
   ]
  },
  {
   "cell_type": "markdown",
   "metadata": {},
   "source": [
    "## Genesis Supply"
   ]
  },
  {
   "cell_type": "code",
   "execution_count": null,
   "metadata": {
    "pycharm": {
     "is_executing": true
    }
   },
   "outputs": [],
   "source": [
    "gen_percent_of_total = genesis_supply/total_CC_Supply * 100\n",
    "print('Genesis Supply = ',genesis_supply,' CCs, which equals ',\n",
    "      round(gen_percent_of_total,2),'% of the total CCs supply cap of '      ,total_CC_Supply )"
   ]
  },
  {
   "cell_type": "markdown",
   "metadata": {},
   "source": [
    "##### Adding 2nd row : State after Genesis Mint"
   ]
  },
  {
   "cell_type": "code",
   "execution_count": null,
   "metadata": {
    "pycharm": {
     "is_executing": true
    }
   },
   "outputs": [],
   "source": [
    "cur_ = cur_ + deltaTime\n",
    "df.loc[len(df.index)] = [pd.to_datetime(cur_,format='%d/%m/%Y'),int((cur_ - unix).total_seconds()),\n",
    "                         0,total_CC_Supply - genesis_supply,RLY_total_locked_target,0,genesis_supply,genesis_supply,0,0,0,0,0,0,0,'Genesis Mint']"
   ]
  },
  {
   "cell_type": "code",
   "execution_count": null,
   "metadata": {
    "pycharm": {
     "is_executing": true
    }
   },
   "outputs": [],
   "source": [
    "# display(df)"
   ]
  },
  {
   "cell_type": "markdown",
   "metadata": {},
   "source": [
    "## Pre-Sale"
   ]
  },
  {
   "cell_type": "code",
   "execution_count": null,
   "metadata": {
    "pycharm": {
     "is_executing": true
    }
   },
   "outputs": [],
   "source": [
    "finalPrice_presale = 2*(_RLY_Locked_presale)/(_CCsSold_presale)\n",
    "\n",
    "slope1 = finalPrice_presale / _CCsSold_presale\n",
    "\n",
    "constant1 = -1 * genesis_supply * slope1\n",
    "\n",
    "print('Exchange pricing function for CC pre-sale : CC price (RLY) = ' + str(slope1) + ' * CCs Supply ' + str(constant1) )\n",
    "\n",
    "print('\\nTotal CCs sold during pre-sale = ' + str(_CCsSold_presale) )\n",
    "print('Total RLY bonded to the TBC during pre-sale = ' + str(_RLY_Locked_presale) )\n",
    "print('CC price after the pre-sale = ' + str(finalPrice_presale) + ' RLY')"
   ]
  },
  {
   "cell_type": "markdown",
   "metadata": {},
   "source": [
    "##### Adding State after Pre-Sale"
   ]
  },
  {
   "cell_type": "code",
   "execution_count": null,
   "metadata": {
    "pycharm": {
     "is_executing": true
    }
   },
   "outputs": [],
   "source": [
    "def costOfMinting(c,slope,prevCCSupply,newCCSupply): \n",
    "    # integral of m*x + c\n",
    "    dif = c*(newCCSupply - prevCCSupply) + 0.5*slope*(pow(newCCSupply,2)-pow(prevCCSupply,2)) \n",
    "    return dif"
   ]
  },
  {
   "cell_type": "code",
   "execution_count": null,
   "metadata": {
    "pycharm": {
     "is_executing": true
    }
   },
   "outputs": [],
   "source": [
    "currentSold = 100\n",
    "deltaSupplies = getNormalDistributionValues(700, 1000,1000)\n",
    " \n",
    "while currentSold < _CCsSold_presale: \n",
    "    cur_ = cur_ + deltaTime\n",
    "    slope = slope1\n",
    "    constant = constant1\n",
    "\n",
    "    if i < 1000:\n",
    "        if i > 0:\n",
    "            CC_deltaSupply = deltaSupplies[i]\n",
    "        i = i + 1\n",
    "    else :\n",
    "        deltaSupplies = getNormalDistributionValues(700, 1000,1000)\n",
    "        i = 0\n",
    "        CC_deltaSupply = deltaSupplies[i]\n",
    "        \n",
    "    total_CCs_to_be_minted = df.loc[len(df.index)-1,'CC To be Minted'] - CC_deltaSupply\n",
    "    CC_totalSupply = df.loc[len(df.index)-1,'CCs : Total Supply'] + CC_deltaSupply\n",
    "    \n",
    "    # functional calculation      \n",
    "    CC_price_RLY = slope*CC_totalSupply + constant\n",
    "    mintCost_RLY = costOfMinting(constant,slope,df.loc[len(df.index)-1,'CCs : Total Supply'],CC_totalSupply)\n",
    "    \n",
    "    pos_depth_CC_minted = CC_price_RLY * 0.02 / slope\n",
    "    pos_depth_RLY_locked = costOfMinting(constant,slope,CC_totalSupply, CC_totalSupply + pos_depth_CC_minted)\n",
    "    neg_depth_CC_burnt = CC_price_RLY * 0.02 / slope\n",
    "    neg_depth_RLY_unlocked = -1 * costOfMinting(constant,slope,CC_totalSupply, CC_totalSupply - neg_depth_CC_burnt)\n",
    "    \n",
    "    \n",
    "#     print(str(CC_totalSupply) + ' ' + str(CC_price_RLY) + ' ' + str(mintCost_RLY))\n",
    "    \n",
    "    currentSold = currentSold + CC_deltaSupply\n",
    "    \n",
    "    RLY_DeltaLocked = mintCost_RLY # CC_deltaSupply * CC_price_RLY\n",
    "    RLY_TotalLocked = df.loc[len(df.index)-1,'RLY : Total Locked'] + RLY_DeltaLocked\n",
    "    total_RLY_to_be_locked = df.loc[len(df.index)-1,'RLY To be Locked'] - RLY_DeltaLocked\n",
    "    reserve_ratio = RLY_TotalLocked / CC_totalSupply\n",
    "    slope = 0\n",
    "\n",
    "    note = str(CC_deltaSupply) + ' CCs sold for ' + str(RLY_DeltaLocked) + ' RLY'\n",
    "\n",
    "    df.loc[len(df.index)] = [pd.to_datetime(cur_,format='%d/%m/%Y'),int((cur_ - unix).total_seconds()),\n",
    "                             slope,total_CCs_to_be_minted,total_RLY_to_be_locked, CC_price_RLY, CC_deltaSupply, CC_totalSupply,\n",
    "                             RLY_DeltaLocked,RLY_TotalLocked,pos_depth_CC_minted,pos_depth_RLY_locked,neg_depth_CC_burnt,neg_depth_RLY_unlocked,reserve_ratio,note]\n"
   ]
  },
  {
   "cell_type": "code",
   "execution_count": null,
   "metadata": {
    "pycharm": {
     "is_executing": true
    }
   },
   "outputs": [],
   "source": [
    "# display(df)\n",
    "metrics = df"
   ]
  },
  {
   "cell_type": "code",
   "execution_count": null,
   "metadata": {
    "pycharm": {
     "is_executing": true
    }
   },
   "outputs": [],
   "source": [
    "# plt.figure(figsize=(18,9))\n",
    "# plt.xticks(rotation=40)\n",
    "# plt.grid(linewidth=0.3)\n",
    "# plt.plot(metrics.loc[:,'CCs : Total Supply'],metrics.loc[:,'CCs : Price (RLY)'],label='CC price vs total CC supply')\n",
    "# plt.plot(metrics.loc[:,'CCs : Total Supply'],metrics.loc[:,'Reserve Ratio'],label='CC Reserve Ratio vs total CC supply')\n",
    "# plt.xlabel('Creator Coin : Total Supply (scale = 10 Million)',fontsize = 15)\n",
    "# plt.ylabel('Creator Coin : Price (RLY)',fontsize = 15)\n",
    "# plt.title('Price, Reserve Ratio vs Total Supply (CC PRE SALE)',fontsize = 19)\n",
    "# plt.legend()\n",
    "# plt.savefig('./images/large_CC_TBC/2_presale_Price_Reserve_Ratio_vs_Supply_PRESALE.png')"
   ]
  },
  {
   "cell_type": "code",
   "execution_count": null,
   "metadata": {
    "pycharm": {
     "is_executing": true
    }
   },
   "outputs": [],
   "source": [
    "fig,ax = plt.subplots(figsize=(15, 7))\n",
    "plt.xticks(rotation=45)\n",
    "plt.title('Price, Reserve Ratio vs Total Supply : Pre Sales',fontsize = 19)\n",
    "\n",
    "ax.plot(metrics.loc[:,'CCs : Total Supply'],metrics.loc[:,'CCs : Price (RLY)'],'-r',label=\"CC price (RLY)\")\n",
    "ax.set_xlabel(\"Creator Coin : Total Supply\",fontsize=14)\n",
    "ax.set_ylabel(\"CC price (RLY)\",fontsize=14)\n",
    "ax.legend(loc='upper left')\n",
    "ax.grid(True)\n",
    "\n",
    "ax2=ax.twinx()\n",
    "ax2.plot(metrics.loc[:,'CCs : Total Supply'],metrics.loc[:,'Reserve Ratio'],'-b',label=\"CC Reserve Ratio (RLY)\")\n",
    "ax2.set_ylabel(\"CC Reserve Ratio (RLY)\",fontsize=14)\n",
    "ax2.legend(loc='upper right')"
   ]
  },
  {
   "cell_type": "code",
   "execution_count": null,
   "metadata": {
    "pycharm": {
     "is_executing": true
    }
   },
   "outputs": [],
   "source": [
    "# plt.figure(figsize=(18,9))\n",
    "# plt.xticks(rotation=40)\n",
    "# plt.grid(linewidth=0.3)\n",
    "# plt.plot(metrics.loc[:,'CCs : Total Supply'],label='CCs : Total Supply')\n",
    "# plt.plot(metrics.loc[:,'RLY : Total Locked'],label='RLY : Total Locked')\n",
    "# plt.xlabel('timestamps (simulated)',fontsize = 15)\n",
    "# plt.ylabel('Total Supply (Millions)',fontsize = 15)\n",
    "# plt.title('Total Creator Coins, RLY Locked vs Time (CC PRE SALE)',fontsize = 19)\n",
    "# plt.legend()\n",
    "# plt.savefig('./images/large_CC_TBC/2_supplies_vs_time_PRESALE.png')"
   ]
  },
  {
   "cell_type": "code",
   "execution_count": null,
   "metadata": {
    "pycharm": {
     "is_executing": true
    }
   },
   "outputs": [],
   "source": [
    "fig,ax = plt.subplots(figsize=(15, 7))\n",
    "plt.xticks(rotation=45)\n",
    "plt.title('Total Creator Coins, RLY Locked vs Time : Pre sale',fontsize = 19)\n",
    "\n",
    "ax.plot( metrics['CCs : Total Supply'], '-r',label=\"CCs : Total Supply\", marker=\".\")\n",
    "ax.set_xlabel(\"timestamps (simulated)\",fontsize=14)\n",
    "ax.set_ylabel(\"Total Supply (Millions)\",fontsize=14)\n",
    "ax.legend(loc='upper left')\n",
    "ax.grid(True)\n",
    "\n",
    "ax2=ax.twinx()\n",
    "ax2.plot( metrics['RLY : Total Locked'],'-b',label=\"RLY : Total Locked\",marker=\".\")\n",
    "ax2.set_ylabel(\"RLY : Total Locked\",fontsize=14)\n",
    "ax2.legend(loc='upper right')"
   ]
  },
  {
   "cell_type": "code",
   "execution_count": null,
   "metadata": {
    "pycharm": {
     "is_executing": true
    }
   },
   "outputs": [],
   "source": [
    "# plt.figure(figsize=(18,9))\n",
    "# plt.xticks(rotation=40)\n",
    "# plt.grid(linewidth=0.3)\n",
    "# plt.plot(metrics.loc[:,'CCs : Total Supply'],metrics.loc[:,'+2% depth: CCs Minted'],label='+2% depth: CCs Minted')\n",
    "# plt.plot(metrics.loc[:,'CCs : Total Supply'],metrics.loc[:,'+2% depth: RLY Locked'],label='+2% depth: RLY Locked')\n",
    "\n",
    "# plt.xlabel('CCs : Total Supply',fontsize = 15)\n",
    "# plt.ylabel('Delta Supply',fontsize = 15)\n",
    "# plt.title('+ 2% Market Depth : delta CCs minted, RLY Locked vs Total CC Supply (CC PRE SALE)',fontsize = 19)\n",
    "# plt.legend()\n",
    "# plt.savefig('./images/large_CC_TBC/2_posDepthDeltaCC_RLY_vs_TotalCCSupply_PRESALE.png')"
   ]
  },
  {
   "cell_type": "code",
   "execution_count": null,
   "metadata": {
    "pycharm": {
     "is_executing": true
    }
   },
   "outputs": [],
   "source": [
    "# plt.figure(figsize=(18,9))\n",
    "# plt.xticks(rotation=40)\n",
    "# plt.grid(linewidth=0.3)\n",
    "# plt.plot(metrics.loc[:,'+2% depth: RLY Locked'],metrics.loc[:,'+2% depth: CCs Minted'],label='Delta RLY Locked vs Delta CC Minted')\n",
    "\n",
    "# plt.xlabel('Delta RLY Locked for +2% depth',fontsize = 15)\n",
    "# plt.ylabel('Delta CCs Minted for +2% depth',fontsize = 15)\n",
    "# plt.title('+2% depth : Delta RLY Locked vs Delta CCs Minted (CC PRE SALE)',fontsize = 19)\n",
    "# plt.legend()\n",
    "# plt.savefig('./images/large_CC_TBC/2_posDepth_DeltaCC_vs_DeltaRLY_PRESALE.png')"
   ]
  },
  {
   "cell_type": "code",
   "execution_count": null,
   "metadata": {
    "pycharm": {
     "is_executing": true
    }
   },
   "outputs": [],
   "source": [
    "# plt.figure(figsize=(18,9))\n",
    "# plt.xticks(rotation=40)\n",
    "# plt.grid(linewidth=0.3)\n",
    "# plt.plot(metrics.loc[:,'CCs : Total Supply'],metrics.loc[:,'-2% depth: CCs Burnt'],label='-2% depth: CCs Burnt')\n",
    "# plt.plot(metrics.loc[:,'CCs : Total Supply'],metrics.loc[:,'-2% depth: RLY Un-Locked'],label='-2% depth: RLY Un-Locked')\n",
    "\n",
    "# plt.xlabel('CCs : Total Supply',fontsize = 15)\n",
    "# plt.ylabel('Total Supply (Millions)',fontsize = 15)\n",
    "# plt.title('- 2% Depth : delta CCs burnt, RLY Un-Locked vs Total CC Supply (CC PRE SALE)',fontsize = 19)\n",
    "# plt.legend()\n",
    "# plt.savefig('./images/large_CC_TBC/2_negDepthDeltaCC_RLY_vs_TotalCCSupply_PRESALE.png')"
   ]
  },
  {
   "cell_type": "code",
   "execution_count": null,
   "metadata": {
    "pycharm": {
     "is_executing": true
    }
   },
   "outputs": [],
   "source": [
    "# plt.figure(figsize=(18,9))\n",
    "# plt.xticks(rotation=40)\n",
    "# plt.grid(linewidth=0.3)\n",
    "# plt.plot(metrics.loc[:,'-2% depth: RLY Un-Locked'],metrics.loc[:,'-2% depth: CCs Burnt'],label='Delta RLY Un-Locked vs Delta CC Burnt')\n",
    "\n",
    "# plt.xlabel('RLY Un-Locked for -2% depth',fontsize = 15)\n",
    "# plt.ylabel('CCs Burnt for -2% depth',fontsize = 15)\n",
    "# plt.title('-2% depth : Delta RLY un-Locked vs Delta CCs Burnt (CC PRE SALE)',fontsize = 19)\n",
    "# plt.legend()\n",
    "# plt.savefig('./images/large_CC_TBC/2_negDepth_DeltaCC_vs_DeltaRLY_PRESALE.png')"
   ]
  },
  {
   "cell_type": "markdown",
   "metadata": {},
   "source": [
    "## Market Maturity : Automated Liquidity via the Bonding Curve\n",
    "\n",
    "- CCs ca be bought / sold via the Bonding Curve.\n",
    "    y = mx + c"
   ]
  },
  {
   "cell_type": "code",
   "execution_count": null,
   "metadata": {
    "pycharm": {
     "is_executing": true
    }
   },
   "outputs": [],
   "source": [
    "CC_finalPrice = 2 * ( ( df.loc[len(df.index)-1,'RLY To be Locked'] / df.loc[len(df.index)-1,'CC To be Minted'] ) - 0.5 * df.loc[len(df.index)-1,'CCs : Price (RLY)'] )\n",
    "\n",
    "slope2 = ( CC_finalPrice -  df.loc[len(df.index)-1,'CCs : Price (RLY)'] ) / df.loc[len(df.index)-1,'CC To be Minted'] \n",
    "constant2 = df.loc[len(df.index)-1,'CCs : Price (RLY)'] - slope2*df.loc[len(df.index)-1,'CCs : Total Supply']\n",
    "\n",
    "print('Exchange pricing function for CC Market Maturity phase : CC price (RLY) = ' + str(slope2) + ' * CCs Supply ' + str(constant2) )\n",
    "\n",
    "print('\\nTotal CCs sold during Market Maturity phase = ' + str(df.loc[len(df.index)-1,'CC To be Minted']) )\n",
    "print('Total RLY bonded to the TBC during Market Maturity phase = ' + str(df.loc[len(df.index)-1,'RLY To be Locked']) )\n",
    "print('Final CC price : ' + str(CC_finalPrice) + ' RLY')"
   ]
  },
  {
   "cell_type": "code",
   "execution_count": null,
   "metadata": {
    "pycharm": {
     "is_executing": true
    }
   },
   "outputs": [],
   "source": [
    "def costOfMinting(c,slope,prevCCSupply,newCCSupply): \n",
    "    # integral of m*x + c\n",
    "    dif = c*(newCCSupply - prevCCSupply) + 0.5*slope*(pow(newCCSupply,2)-pow(prevCCSupply,2)) \n",
    "    return dif"
   ]
  },
  {
   "cell_type": "code",
   "execution_count": null,
   "metadata": {
    "pycharm": {
     "is_executing": true
    }
   },
   "outputs": [],
   "source": [
    "deltaSupplies = getNormalDistributionValues(700, 1000,1000)\n",
    "CCstobeMinted = df.loc[len(df.index)-1,'CC To be Minted']\n",
    "    \n",
    "while CCstobeMinted > 0:\n",
    "    cur_ = cur_ + deltaTime  # date updated\n",
    "\n",
    "    if i < 1000:\n",
    "        CC_deltaSupply = deltaSupplies[i]\n",
    "        i = i + 1\n",
    "    else :\n",
    "        deltaSupplies = getNormalDistributionValues(700, 1000,1000)\n",
    "        i = 0\n",
    "        CC_deltaSupply = deltaSupplies[i]\n",
    "\n",
    "    total_CCs_to_be_minted = df.loc[len(df.index)-1,'CC To be Minted'] - CC_deltaSupply\n",
    "    CC_totalSupply = df.loc[len(df.index)-1,'CCs : Total Supply'] + CC_deltaSupply\n",
    "                \n",
    "    # functional calculation      \n",
    "    CC_price_RLY = slope2*CC_totalSupply + constant2\n",
    "    mintCost_RLY = costOfMinting(constant2,slope2,df.loc[len(df.index)-1,'CCs : Total Supply'],CC_totalSupply)\n",
    "\n",
    "    pos_depth_CC_minted = CC_price_RLY * 0.02 / slope2\n",
    "    pos_depth_RLY_locked = costOfMinting(constant2,slope2,CC_totalSupply, CC_totalSupply + pos_depth_CC_minted)\n",
    "    neg_depth_CC_burnt = CC_price_RLY * 0.02 / slope2\n",
    "    neg_depth_RLY_unlocked = -1 * costOfMinting(constant2,slope2,CC_totalSupply, CC_totalSupply - neg_depth_CC_burnt)\n",
    "        \n",
    "    RLY_DeltaLocked = mintCost_RLY\n",
    "    RLY_TotalLocked = df.loc[len(df.index)-1,'RLY : Total Locked'] + RLY_DeltaLocked\n",
    "    total_RLY_to_be_locked = df.loc[len(df.index)-1,'RLY To be Locked'] - RLY_DeltaLocked\n",
    "    reserve_ratio = RLY_TotalLocked / CC_totalSupply\n",
    "    \n",
    "    note = 'Mint Transaction'\n",
    "\n",
    "    df.loc[len(df.index)] = [pd.to_datetime(cur_,format='%d/%m/%Y'),int((cur_ - unix).total_seconds()),\n",
    "                             slope2,total_CCs_to_be_minted,total_RLY_to_be_locked, CC_price_RLY, CC_deltaSupply, CC_totalSupply,\n",
    "                             RLY_DeltaLocked,RLY_TotalLocked,pos_depth_CC_minted,pos_depth_RLY_locked,neg_depth_CC_burnt,neg_depth_RLY_unlocked,\n",
    "                             reserve_ratio,note]\n",
    "    \n",
    "    CCstobeMinted = df.loc[len(df.index)-1,'CC To be Minted']"
   ]
  },
  {
   "cell_type": "code",
   "execution_count": null,
   "metadata": {
    "pycharm": {
     "is_executing": true
    }
   },
   "outputs": [],
   "source": [
    "# display(df)\n",
    "metrics = df"
   ]
  },
  {
   "cell_type": "code",
   "execution_count": null,
   "metadata": {
    "pycharm": {
     "is_executing": true
    }
   },
   "outputs": [],
   "source": [
    "fig,ax = plt.subplots(figsize=(15, 7))\n",
    "plt.xticks(rotation=45)\n",
    "plt.title('Price, Reserve Ratio vs Total Supply',fontsize = 19)\n",
    "\n",
    "ax.plot(metrics.loc[:,'CCs : Total Supply'],metrics.loc[:,'CCs : Price (RLY)'],'-r',label=\"CC price (RLY)\")\n",
    "ax.set_xlabel(\"Creator Coin : Total Supply\",fontsize=14)\n",
    "ax.set_ylabel(\"CC price (RLY)\",fontsize=14)\n",
    "ax.legend(loc='upper left')\n",
    "ax.grid(True)\n",
    "\n",
    "ax2=ax.twinx()\n",
    "ax2.plot(metrics.loc[:,'CCs : Total Supply'],metrics.loc[:,'Reserve Ratio'],'-b',label=\"CC Reserve Ratio (RLY)\")\n",
    "ax2.set_ylabel(\"CC Reserve Ratio (RLY)\",fontsize=14)\n",
    "ax2.legend(loc='upper right')"
   ]
  },
  {
   "cell_type": "code",
   "execution_count": null,
   "metadata": {
    "pycharm": {
     "is_executing": true
    }
   },
   "outputs": [],
   "source": [
    "# plt.figure(figsize=(18,9))\n",
    "# plt.xticks(rotation=40)\n",
    "# plt.grid(linewidth=0.3)\n",
    "# plt.plot(metrics.loc[:,'CCs : Total Supply'],metrics.loc[:,'CCs : Price (RLY)'],label='CC price vs total CC supply')\n",
    "# plt.plot(metrics.loc[:,'CCs : Total Supply'],metrics.loc[:,'Reserve Ratio'],label='CC Reserve Ratio vs total CC supply')\n",
    "# plt.xlabel('Creator Coin : Total Supply (scale = 10 Million)',fontsize = 15)\n",
    "# plt.ylabel('Creator Coin : Price (RLY)',fontsize = 15)\n",
    "# plt.title('Price, Reserve Ratio vs Total Supply',fontsize = 19)\n",
    "# plt.legend()\n",
    "# plt.savefig('./images/large_CC_TBC/2_Price_Reserve_Ratio_vs_Supply.png')"
   ]
  },
  {
   "cell_type": "code",
   "execution_count": null,
   "metadata": {
    "pycharm": {
     "is_executing": true
    }
   },
   "outputs": [],
   "source": [
    "# plt.figure(figsize=(18,9))\n",
    "# plt.xticks(rotation=40)\n",
    "# plt.grid(linewidth=0.3)\n",
    "# plt.plot(metrics.loc[:,'CCs : Total Supply'],label='CCs : Total Supply')\n",
    "# plt.plot(metrics.loc[:,'RLY : Total Locked'],label='RLY : Total Locked')\n",
    "# plt.xlabel('timestamps (simulated)',fontsize = 15)\n",
    "# plt.ylabel('Total Supply (Millions)',fontsize = 15)\n",
    "# plt.title('Total Creator Coins, RLY Locked vs Time',fontsize = 19)\n",
    "# plt.legend()\n",
    "# plt.savefig('./images/large_CC_TBC/2_supplies_vs_time.png')"
   ]
  },
  {
   "cell_type": "code",
   "execution_count": null,
   "metadata": {
    "pycharm": {
     "is_executing": true
    }
   },
   "outputs": [],
   "source": [
    "fig,ax = plt.subplots(figsize=(15, 7))\n",
    "plt.xticks(rotation=45)\n",
    "plt.title('Total Creator Coins, RLY Locked vs Time',fontsize = 19)\n",
    "\n",
    "ax.plot( metrics['CCs : Total Supply'], '-r',label=\"CCs : Total Supply\", marker=\".\")\n",
    "ax.set_xlabel(\"timestamps (simulated)\",fontsize=14)\n",
    "ax.set_ylabel(\"Total Supply (Millions)\",fontsize=14)\n",
    "ax.legend(loc='upper left')\n",
    "ax.grid(True)\n",
    "\n",
    "ax2=ax.twinx()\n",
    "ax2.plot( metrics['RLY : Total Locked'],'-b',label=\"RLY : Total Locked\",marker=\".\")\n",
    "ax2.set_ylabel(\"RLY : Total Locked\",fontsize=14)\n",
    "ax2.legend(loc='upper right')"
   ]
  },
  {
   "cell_type": "code",
   "execution_count": null,
   "metadata": {
    "pycharm": {
     "is_executing": true
    }
   },
   "outputs": [],
   "source": [
    "fig,ax = plt.subplots(figsize=(15, 7))\n",
    "plt.xticks(rotation=45)\n",
    "plt.title('Linear TBC : 2% Price Depth',fontsize = 19)\n",
    "\n",
    "ax.plot( metrics['CCs : Total Supply'],metrics['+2% depth: CCs Minted'], '-r',label=\"+2% depth: CCs Minted\")\n",
    "ax.set_xlabel(\"CCs : Total Supply\",fontsize=14)\n",
    "ax.set_ylabel(\"CCs Minted per 2% price increase\",fontsize=14)\n",
    "ax.legend(loc='upper left')\n",
    "ax.grid(True)\n",
    "\n",
    "ax2=ax.twinx()\n",
    "ax2.plot( metrics['CCs : Total Supply'],metrics.loc[:,'+2% depth: RLY Locked'],'-b',label=\"+2% depth: RLY Locked\")\n",
    "ax2.set_ylabel(\"RLY Locked per 2% price increase\",fontsize=14)\n",
    "ax2.legend(loc='upper right')"
   ]
  },
  {
   "cell_type": "code",
   "execution_count": null,
   "metadata": {
    "pycharm": {
     "is_executing": true
    }
   },
   "outputs": [],
   "source": [
    "# plt.figure(figsize=(18,9))\n",
    "# plt.xticks(rotation=40)\n",
    "# plt.grid(linewidth=0.3)\n",
    "# plt.plot(metrics.loc[:,'CCs : Total Supply'],metrics.loc[:,'+2% depth: CCs Minted'],label='+2% depth: CCs Minted')\n",
    "# plt.plot(metrics.loc[:,'CCs : Total Supply'],metrics.loc[:,'+2% depth: RLY Locked'],label='+2% depth: RLY Locked')\n",
    "\n",
    "# plt.xlabel('CCs : Total Supply',fontsize = 15)\n",
    "# plt.ylabel('Delta Supply (Millions)',fontsize = 15)\n",
    "# plt.title('+ 2% Market Depth : delta CCs minted, RLY Locked vs Total CC Supply',fontsize = 19)\n",
    "# plt.legend()\n",
    "# plt.savefig('./images/large_CC_TBC/2_posDepthDeltaCC_RLY_vs_TotalCCSupply.png')"
   ]
  },
  {
   "cell_type": "code",
   "execution_count": null,
   "metadata": {
    "pycharm": {
     "is_executing": true
    }
   },
   "outputs": [],
   "source": [
    "plt.figure(figsize=(18,9))\n",
    "plt.xticks(rotation=40)\n",
    "plt.grid(linewidth=0.3)\n",
    "plt.plot(metrics.loc[:,'+2% depth: RLY Locked'],metrics.loc[:,'+2% depth: CCs Minted'],label='Delta RLY Locked vs Delta CC Minted')\n",
    "\n",
    "plt.xlabel('Delta RLY Locked for +2% depth',fontsize = 15)\n",
    "plt.ylabel('Delta CCs Minted for +2% depth',fontsize = 15)\n",
    "plt.title('+2% depth : Delta RLY Locked vs Delta CCs Minted',fontsize = 19)\n",
    "plt.legend()\n",
    "# plt.savefig('./images/large_CC_TBC/2_posDepth_DeltaCC_vs_DeltaRLY.png')"
   ]
  },
  {
   "cell_type": "code",
   "execution_count": null,
   "metadata": {
    "pycharm": {
     "is_executing": true
    }
   },
   "outputs": [],
   "source": [
    "# plt.figure(figsize=(18,9))\n",
    "# plt.xticks(rotation=40)\n",
    "# plt.grid(linewidth=0.3)\n",
    "# plt.plot(metrics.loc[:,'CCs : Total Supply'],metrics.loc[:,'-2% depth: CCs Burnt'],label='-2% depth: CCs Burnt')\n",
    "# plt.plot(metrics.loc[:,'CCs : Total Supply'],metrics.loc[:,'-2% depth: RLY Un-Locked'],label='-2% depth: RLY Un-Locked')\n",
    "\n",
    "# plt.xlabel('CCs : Total Supply',fontsize = 15)\n",
    "# plt.ylabel('Delta Supply (Millions)',fontsize = 15)\n",
    "# plt.title('- 2% Depth : delta CCs burnt, RLY Un-Locked vs Total CC Supply',fontsize = 19)\n",
    "# plt.legend()\n",
    "# plt.savefig('./images/large_CC_TBC/2_negDepthDeltaCC_RLY_vs_TotalCCSupply.png')"
   ]
  },
  {
   "cell_type": "code",
   "execution_count": null,
   "metadata": {
    "pycharm": {
     "is_executing": true
    }
   },
   "outputs": [],
   "source": [
    "fig,ax = plt.subplots(figsize=(15, 7))\n",
    "plt.xticks(rotation=45)\n",
    "plt.title('Linear TBC : -2% Price Depth',fontsize = 19)\n",
    "\n",
    "ax.plot( metrics['CCs : Total Supply'],metrics['-2% depth: CCs Burnt'], '-r',label=\"-2% depth: CCs Burnt\")\n",
    "ax.set_xlabel(\"CCs : Total Supply\",fontsize=14)\n",
    "ax.set_ylabel(\"CCs Burnt per 2% price decrease\",fontsize=14)\n",
    "ax.legend(loc='upper left')\n",
    "ax.grid(True)\n",
    "\n",
    "ax2=ax.twinx()\n",
    "ax2.plot( metrics['CCs : Total Supply'],metrics.loc[:,'-2% depth: RLY Un-Locked'],'-b',label=\"-2% depth: RLY Un-Locked\")\n",
    "ax2.set_ylabel(\"RLY UnLocked per 2% price decrease\",fontsize=14)\n",
    "ax2.legend(loc='upper right')"
   ]
  },
  {
   "cell_type": "code",
   "execution_count": null,
   "metadata": {
    "pycharm": {
     "is_executing": true
    }
   },
   "outputs": [],
   "source": [
    "plt.figure(figsize=(18,9))\n",
    "plt.xticks(rotation=40)\n",
    "plt.grid(linewidth=0.3)\n",
    "plt.plot(metrics.loc[:,'-2% depth: RLY Un-Locked'],metrics.loc[:,'-2% depth: CCs Burnt'],label='Delta RLY Un-Locked vs Delta CC Burnt')\n",
    "\n",
    "plt.xlabel('RLY Un-Locked for -2% depth',fontsize = 15)\n",
    "plt.ylabel('CCs Burnt for -2% depth',fontsize = 15)\n",
    "plt.title('-2% depth : Delta RLY un-Locked vs Delta CCs Burnt',fontsize = 19)\n",
    "plt.legend()\n",
    "# plt.savefig('./images/large_CC_TBC/2_negDepth_DeltaCC_vs_DeltaRLY.png')"
   ]
  },
  {
   "cell_type": "code",
   "execution_count": null,
   "metadata": {
    "pycharm": {
     "is_executing": true
    }
   },
   "outputs": [],
   "source": [
    "# display(df)"
   ]
  },
  {
   "cell_type": "code",
   "execution_count": null,
   "metadata": {
    "pycharm": {
     "is_executing": true
    }
   },
   "outputs": [],
   "source": [
    "aggregatedDF = pd.DataFrame([], columns = ['Range','CC minted (prev)','CC minted (new)','Delta RLY Locked']) \n",
    "CCminted = 0\n",
    "i = 0 \n",
    "\n",
    "depthFigures = pd.DataFrame([], columns = ['CCs : Total Supply','CCs : Price (RLY)',\n",
    "                                 '+2% depth: CCs Minted','+2% depth: RLY Locked',\n",
    "                                 '-2% depth: CCs Burnt','-2% depth: RLY Un-Locked',\n",
    "                                 'Reserve Ratio']) \n",
    "\n",
    "while CCminted < 21000000 and i < (len(metrics.index) - 1):\n",
    "    cur_CC = 0\n",
    "    RLY_locked_window = 0\n",
    "    \n",
    "    while cur_CC < 1000000 and i < (len(metrics.index) - 1): \n",
    "        cur_CC = cur_CC + metrics.loc[i,'CCs : Delta Supply']\n",
    "        RLY_locked_window = RLY_locked_window + metrics.loc[i,'RLY : Delta Locked'] \n",
    "        i = i + 1\n",
    "#         print( 'current CCs = ' + str(round(cur_CC,2)) + ' RLY locked window = ' + str(round(RLY_locked_window,2)) + ' i = ' + str(i) )\n",
    "        \n",
    "    aggregatedDF.loc[len(aggregatedDF.index)] = [str(round(CCminted,2)) + '-' + str(round(CCminted + cur_CC,2)),CCminted,CCminted + cur_CC, RLY_locked_window]\n",
    "\n",
    "    depthFigures.loc[len(depthFigures.index)] = metrics.loc[i,['CCs : Total Supply','CCs : Price (RLY)',\n",
    "                                 '+2% depth: CCs Minted','+2% depth: RLY Locked',\n",
    "                                 '-2% depth: CCs Burnt','-2% depth: RLY Un-Locked',\n",
    "                                 'Reserve Ratio']]\n",
    "    \n",
    "    CCminted = CCminted + cur_CC   \n",
    "    \n",
    "depthFigures.loc[len(depthFigures.index)] = metrics.loc[len(metrics.index) - 1,['CCs : Total Supply','CCs : Price (RLY)',\n",
    "                                 '+2% depth: CCs Minted','+2% depth: RLY Locked',\n",
    "                                 '-2% depth: CCs Burnt','-2% depth: RLY Un-Locked',\n",
    "                                 'Reserve Ratio']]    \n",
    "    \n",
    "    "
   ]
  },
  {
   "cell_type": "code",
   "execution_count": null,
   "metadata": {
    "pycharm": {
     "is_executing": true
    }
   },
   "outputs": [],
   "source": [
    "fig = aggregatedDF.plot.bar(x='Range',y='Delta RLY Locked',xlabel='CCs Minted (Range)',\n",
    "                      ylabel='Delta RLY Locked (scale = 10 Million)', figsize=(12,9) ).get_figure()"
   ]
  },
  {
   "cell_type": "code",
   "execution_count": null,
   "metadata": {
    "pycharm": {
     "is_executing": true
    }
   },
   "outputs": [],
   "source": [
    "# fig.savefig('./images/large_CC_TBC/2_delta_RLY_locked_perMillionCC.png')"
   ]
  },
  {
   "cell_type": "code",
   "execution_count": null,
   "metadata": {
    "pycharm": {
     "is_executing": true
    }
   },
   "outputs": [],
   "source": [
    "pd.options.display.float_format = '{:.2f}'.format\n",
    "display(depthFigures)"
   ]
  },
  {
   "cell_type": "code",
   "execution_count": null,
   "metadata": {
    "pycharm": {
     "is_executing": true
    }
   },
   "outputs": [],
   "source": []
  },
  {
   "cell_type": "code",
   "execution_count": null,
   "metadata": {
    "pycharm": {
     "is_executing": true
    }
   },
   "outputs": [],
   "source": []
  },
  {
   "cell_type": "code",
   "execution_count": null,
   "metadata": {
    "pycharm": {
     "is_executing": true
    }
   },
   "outputs": [],
   "source": []
  },
  {
   "cell_type": "code",
   "execution_count": null,
   "metadata": {
    "pycharm": {
     "is_executing": true
    }
   },
   "outputs": [],
   "source": []
  },
  {
   "cell_type": "code",
   "execution_count": null,
   "metadata": {
    "pycharm": {
     "is_executing": true
    }
   },
   "outputs": [],
   "source": []
  },
  {
   "cell_type": "code",
   "execution_count": null,
   "metadata": {
    "pycharm": {
     "is_executing": true
    }
   },
   "outputs": [],
   "source": []
  },
  {
   "cell_type": "code",
   "execution_count": null,
   "metadata": {
    "pycharm": {
     "is_executing": true
    }
   },
   "outputs": [],
   "source": []
  },
  {
   "cell_type": "code",
   "execution_count": null,
   "metadata": {
    "pycharm": {
     "is_executing": true
    }
   },
   "outputs": [],
   "source": []
  },
  {
   "cell_type": "code",
   "execution_count": null,
   "metadata": {
    "pycharm": {
     "is_executing": true
    }
   },
   "outputs": [],
   "source": []
  },
  {
   "cell_type": "code",
   "execution_count": null,
   "metadata": {
    "pycharm": {
     "is_executing": true
    }
   },
   "outputs": [],
   "source": []
  },
  {
   "cell_type": "code",
   "execution_count": null,
   "metadata": {
    "pycharm": {
     "is_executing": true
    }
   },
   "outputs": [],
   "source": []
  },
  {
   "cell_type": "code",
   "execution_count": null,
   "metadata": {
    "pycharm": {
     "is_executing": true
    }
   },
   "outputs": [],
   "source": []
  },
  {
   "cell_type": "code",
   "execution_count": null,
   "metadata": {
    "pycharm": {
     "is_executing": true
    }
   },
   "outputs": [],
   "source": []
  },
  {
   "cell_type": "code",
   "execution_count": null,
   "metadata": {
    "pycharm": {
     "is_executing": true
    }
   },
   "outputs": [],
   "source": []
  },
  {
   "cell_type": "code",
   "execution_count": null,
   "metadata": {
    "pycharm": {
     "is_executing": true
    }
   },
   "outputs": [],
   "source": []
  },
  {
   "cell_type": "code",
   "execution_count": null,
   "metadata": {
    "pycharm": {
     "is_executing": true
    }
   },
   "outputs": [],
   "source": []
  },
  {
   "cell_type": "code",
   "execution_count": null,
   "metadata": {
    "pycharm": {
     "is_executing": true
    }
   },
   "outputs": [],
   "source": []
  },
  {
   "cell_type": "code",
   "execution_count": null,
   "metadata": {
    "pycharm": {
     "is_executing": true
    }
   },
   "outputs": [],
   "source": []
  },
  {
   "cell_type": "code",
   "execution_count": null,
   "metadata": {
    "pycharm": {
     "is_executing": true
    }
   },
   "outputs": [],
   "source": []
  },
  {
   "cell_type": "code",
   "execution_count": null,
   "metadata": {
    "pycharm": {
     "is_executing": true
    }
   },
   "outputs": [],
   "source": []
  },
  {
   "cell_type": "code",
   "execution_count": null,
   "metadata": {
    "pycharm": {
     "is_executing": true
    }
   },
   "outputs": [],
   "source": []
  },
  {
   "cell_type": "code",
   "execution_count": null,
   "metadata": {
    "pycharm": {
     "is_executing": true
    }
   },
   "outputs": [],
   "source": []
  },
  {
   "cell_type": "code",
   "execution_count": null,
   "metadata": {
    "pycharm": {
     "is_executing": true
    }
   },
   "outputs": [],
   "source": []
  },
  {
   "cell_type": "markdown",
   "metadata": {},
   "source": [
    "# TBC Template #3 : Negative Exponential curve for pre-sale and linear curve for market maturity phase\n",
    "\n",
    "Brief description of different market phases supported by this template are mentioned below -\n",
    "\n",
    "![TBC Template #3 : Logarithmic curve for pre-sale and linear curve for market maturity phase](./curves/template3.png)\n",
    "\n",
    "- Genesis Mint : CCs minted against minimal RLY locked\n",
    "- Pre-Sale - Liquidity provided by a logarithmic exchange pricing function, price = C1 + C2*log(x) \n",
    "- Market Maturity - Liquidity provided by an exchange pricing function, y = m*x + c\n",
    "\n",
    "The max supply of Creator Coins that can be minted is capped."
   ]
  },
  {
   "cell_type": "code",
   "execution_count": null,
   "metadata": {
    "pycharm": {
     "is_executing": true
    }
   },
   "outputs": [],
   "source": [
    "# Parameters\n",
    "total_CC_Supply = 21000000            # 21 Million\n",
    "RLY_total_locked_target = 210000000   # 210 Million\n",
    "\n",
    "genesis_supply = 5000000 # 5 Million\n",
    "totalRallyLocked = 0    \n",
    "\n",
    "# Pre-Sale Parameters\n",
    "_CCsSold_presale = 2000000  # 2 Million\n",
    "_CCPreSalePrice_Final = 2"
   ]
  },
  {
   "cell_type": "code",
   "execution_count": null,
   "metadata": {
    "pycharm": {
     "is_executing": true
    }
   },
   "outputs": [],
   "source": [
    "df = pd.DataFrame([], columns = ['date', 'timestamp','slope','CC To be Minted','RLY To be Locked',\n",
    "                                 'CCs : Price (RLY)','CCs : Delta Supply','CCs : Total Supply',\n",
    "                                 'RLY : Delta Locked','RLY : Total Locked',\n",
    "                                 '+2% depth: CCs Minted','+2% depth: RLY Locked',\n",
    "                                 '-2% depth: CCs Burnt','-2% depth: RLY Un-Locked',\n",
    "                                 'Reserve Ratio','Note']) \n",
    "df['date'] = pd.to_datetime(df['date'],format='%d/%m/%Y')\n",
    "\n",
    "unix = datetime(1970, 1, 1)\n",
    "cur_  = datetime(2021, 1, 1)\n",
    "\n",
    "deltaTime = timedelta(minutes=1)"
   ]
  },
  {
   "cell_type": "markdown",
   "metadata": {},
   "source": [
    "##### Adding first row (Phase 0)"
   ]
  },
  {
   "cell_type": "code",
   "execution_count": null,
   "metadata": {
    "pycharm": {
     "is_executing": true
    }
   },
   "outputs": [],
   "source": [
    "df.loc[0] = [pd.to_datetime(cur_,format='%d/%m/%Y'),int((cur_ - unix).total_seconds()),0,total_CC_Supply,RLY_total_locked_target\n",
    "                         ,0,0,0,0,0,0,0,0,0,0, 'Phase 0']"
   ]
  },
  {
   "cell_type": "code",
   "execution_count": null,
   "metadata": {
    "pycharm": {
     "is_executing": true
    }
   },
   "outputs": [],
   "source": [
    "# display(df)"
   ]
  },
  {
   "cell_type": "markdown",
   "metadata": {},
   "source": [
    "## Genesis Supply"
   ]
  },
  {
   "cell_type": "code",
   "execution_count": null,
   "metadata": {
    "pycharm": {
     "is_executing": true
    }
   },
   "outputs": [],
   "source": [
    "gen_percent_of_total = genesis_supply/total_CC_Supply * 100\n",
    "print('Genesis Supply = ',genesis_supply,' CCs, which equals ',\n",
    "      round(gen_percent_of_total,2),'% of the total CCs supply cap of '      ,total_CC_Supply )"
   ]
  },
  {
   "cell_type": "markdown",
   "metadata": {},
   "source": [
    "##### Adding 2nd row : State after Genesis Mint"
   ]
  },
  {
   "cell_type": "code",
   "execution_count": null,
   "metadata": {
    "pycharm": {
     "is_executing": true
    }
   },
   "outputs": [],
   "source": [
    "cur_ = cur_ + deltaTime\n",
    "df.loc[len(df.index)] = [pd.to_datetime(cur_,format='%d/%m/%Y'),int((cur_ - unix).total_seconds()),\n",
    "                         0,total_CC_Supply - genesis_supply,RLY_total_locked_target,0,genesis_supply,genesis_supply,0,0,0,0,0,0,0,'Genesis Mint']"
   ]
  },
  {
   "cell_type": "code",
   "execution_count": null,
   "metadata": {
    "pycharm": {
     "is_executing": true
    }
   },
   "outputs": [],
   "source": [
    "# display(df)"
   ]
  },
  {
   "cell_type": "markdown",
   "metadata": {},
   "source": [
    "## Pre-Sale"
   ]
  },
  {
   "cell_type": "code",
   "execution_count": null,
   "metadata": {
    "pycharm": {
     "is_executing": true
    }
   },
   "outputs": [],
   "source": [
    "finalPrice_presale = _CCPreSalePrice_Final\n",
    "multiplier = 1\n",
    "\n",
    "constant2 = round(finalPrice_presale / (math.log((genesis_supply + _CCsSold_presale)/genesis_supply)),3)\n",
    "constant1 = round(-1 * constant2 * math.log(multiplier*genesis_supply),3)\n",
    "\n",
    "finalCCSupplyPresale = genesis_supply + _CCsSold_presale\n",
    "\n",
    "print('Exchange pricing function for CC pre-sale : CC price (RLY) = ' + str(constant1) + ' + ' + str(constant2) + ' * log ( ' + str(multiplier) + '* CCs Supply ) ')\n",
    "print('\\nTotal CCs sold during pre-sale = ' + str(_CCsSold_presale) )\n",
    "\n",
    "totalRLYLockedDuringPreSale = constant1*(_CCsSold_presale) + constant2*( math.log(multiplier)*_CCsSold_presale +  finalCCSupplyPresale*math.log(finalCCSupplyPresale) - finalCCSupplyPresale - (genesis_supply*math.log(genesis_supply) - genesis_supply) )\n",
    "\n",
    "print('Total RLY bonded to the TBC during pre-sale = ' + str(totalRLYLockedDuringPreSale) )\n",
    "print('CC price after the pre-sale = ' + str(finalPrice_presale) + ' RLY')"
   ]
  },
  {
   "cell_type": "markdown",
   "metadata": {},
   "source": [
    "##### Adding State during Pre-Sale"
   ]
  },
  {
   "cell_type": "code",
   "execution_count": null,
   "metadata": {
    "pycharm": {
     "is_executing": true
    }
   },
   "outputs": [],
   "source": [
    "def costOfMinting(c1,c2,preCCSupply,newCCSupply): \n",
    "    # integral of c1 + c2*log(x)\n",
    "    dif = c1*(newCCSupply - preCCSupply) + c2*( (math.log(multiplier)*(newCCSupply - preCCSupply)) + (newCCSupply*math.log(newCCSupply)) - newCCSupply - ((preCCSupply*math.log(preCCSupply)) - preCCSupply) )\n",
    "    return dif"
   ]
  },
  {
   "cell_type": "code",
   "execution_count": null,
   "metadata": {
    "pycharm": {
     "is_executing": true
    }
   },
   "outputs": [],
   "source": [
    "def posDepth_CCminted(c1,c2,CCSupply,CCPrice):\n",
    "    exp = ((0.02*CCPrice)/c2) + math.log(multiplier*CCSupply)\n",
    "    ccMinted = ((math.exp(exp))/multiplier) - CCSupply\n",
    "    return ccMinted\n",
    "    "
   ]
  },
  {
   "cell_type": "code",
   "execution_count": null,
   "metadata": {
    "pycharm": {
     "is_executing": true
    }
   },
   "outputs": [],
   "source": [
    "def negDepth_CCBurnt(c1,c2,CCSupply,CCPrice):\n",
    "    exp = math.log(multiplier*CCSupply) - ((0.02*CCPrice)/c2)\n",
    "    ccBurnt = CCSupply - ((math.exp(exp))/multiplier)\n",
    "    return ccBurnt"
   ]
  },
  {
   "cell_type": "code",
   "execution_count": null,
   "metadata": {
    "pycharm": {
     "is_executing": true
    }
   },
   "outputs": [],
   "source": [
    "currentSold = 100\n",
    "deltaSupplies = getNormalDistributionValues(700, 1000,1000)\n",
    "\n",
    "while currentSold < _CCsSold_presale: \n",
    "    cur_ = cur_ + deltaTime\n",
    "\n",
    "    if i < 1000:\n",
    "        if deltaSupplies[i] > 0 :\n",
    "            CC_deltaSupply = deltaSupplies[i]        \n",
    "        i = i + 1\n",
    "    else :\n",
    "        deltaSupplies = getNormalDistributionValues(700, 1000,1000)\n",
    "        i = 0\n",
    "        CC_deltaSupply = deltaSupplies[i]\n",
    "        \n",
    "    total_CCs_to_be_minted = df.loc[len(df.index)-1,'CC To be Minted'] - CC_deltaSupply\n",
    "    CC_totalSupply = df.loc[len(df.index)-1,'CCs : Total Supply'] + CC_deltaSupply\n",
    "    \n",
    "    # functional calculation      \n",
    "    CC_price_RLY = constant1 + constant2*math.log(multiplier*CC_totalSupply)\n",
    "    mintCost_RLY = costOfMinting(constant1,constant2,df.loc[len(df.index)-1,'CCs : Total Supply'],CC_totalSupply)\n",
    "    \n",
    "    pos_depth_CC_minted = posDepth_CCminted(constant1,constant2,CC_totalSupply,CC_price_RLY)\n",
    "    pos_depth_RLY_locked = costOfMinting(constant1,constant2,CC_totalSupply, CC_totalSupply + pos_depth_CC_minted)\n",
    "    neg_depth_CC_burnt = negDepth_CCBurnt(constant1,constant2,CC_totalSupply,CC_price_RLY)\n",
    "    neg_depth_RLY_unlocked = -1 * costOfMinting(constant1,constant2,CC_totalSupply, CC_totalSupply - neg_depth_CC_burnt)\n",
    "        \n",
    "    currentSold = currentSold + CC_deltaSupply\n",
    "    \n",
    "    RLY_DeltaLocked = mintCost_RLY # CC_deltaSupply * CC_price_RLY\n",
    "    RLY_TotalLocked = df.loc[len(df.index)-1,'RLY : Total Locked'] + RLY_DeltaLocked\n",
    "    total_RLY_to_be_locked = df.loc[len(df.index)-1,'RLY To be Locked'] - RLY_DeltaLocked\n",
    "    reserve_ratio = RLY_TotalLocked / CC_totalSupply\n",
    "    slope = 0\n",
    "\n",
    "    note = str(CC_deltaSupply) + ' CCs sold for ' + str(RLY_DeltaLocked) + ' RLY'\n",
    "\n",
    "    df.loc[len(df.index)] = [pd.to_datetime(cur_,format='%d/%m/%Y'),int((cur_ - unix).total_seconds()),\n",
    "                             slope,total_CCs_to_be_minted,total_RLY_to_be_locked, CC_price_RLY, CC_deltaSupply, CC_totalSupply,\n",
    "                             RLY_DeltaLocked,RLY_TotalLocked,pos_depth_CC_minted,pos_depth_RLY_locked,neg_depth_CC_burnt,neg_depth_RLY_unlocked,reserve_ratio,note]\n"
   ]
  },
  {
   "cell_type": "code",
   "execution_count": null,
   "metadata": {
    "pycharm": {
     "is_executing": true
    }
   },
   "outputs": [],
   "source": [
    "# display(df)\n",
    "metrics = df"
   ]
  },
  {
   "cell_type": "code",
   "execution_count": null,
   "metadata": {
    "pycharm": {
     "is_executing": true
    }
   },
   "outputs": [],
   "source": [
    "# plt.figure(figsize=(18,9))\n",
    "# plt.xticks(rotation=40)\n",
    "# plt.grid(linewidth=0.3)\n",
    "# plt.plot(metrics.loc[:,'CCs : Total Supply'],metrics.loc[:,'CCs : Price (RLY)'],label='CC price vs total CC supply')\n",
    "# plt.plot(metrics.loc[:,'CCs : Total Supply'],metrics.loc[:,'Reserve Ratio'],label='CC Reserve Ratio vs total CC supply')\n",
    "# plt.xlabel('Creator Coin : Total Supply (scale = 10 Million)',fontsize = 15)\n",
    "# plt.ylabel('Creator Coin : Price (RLY)',fontsize = 15)\n",
    "# plt.title('Price, Reserve Ratio vs Total Supply (CC PRE SALE)',fontsize = 19)\n",
    "# plt.legend()\n",
    "# plt.savefig('./images/large_CC_TBC/3_presale_Price_Reserve_Ratio_vs_Supply_PRESALE.png')"
   ]
  },
  {
   "cell_type": "code",
   "execution_count": null,
   "metadata": {
    "pycharm": {
     "is_executing": true
    }
   },
   "outputs": [],
   "source": [
    "fig,ax = plt.subplots(figsize=(15, 7))\n",
    "plt.xticks(rotation=45)\n",
    "plt.title('Price, Reserve Ratio vs Total Supply: Presale',fontsize = 19)\n",
    "\n",
    "ax.plot(metrics.loc[:,'CCs : Total Supply'],metrics.loc[:,'CCs : Price (RLY)'],'-r',label=\"CC price (RLY)\")\n",
    "ax.set_xlabel(\"Creator Coin : Total Supply\",fontsize=14)\n",
    "ax.set_ylabel(\"CC price (RLY)\",fontsize=14)\n",
    "ax.legend(loc='upper left')\n",
    "ax.grid(True)\n",
    "\n",
    "ax2=ax.twinx()\n",
    "ax2.plot(metrics.loc[:,'CCs : Total Supply'],metrics.loc[:,'Reserve Ratio'],'-b',label=\"CC Reserve Ratio (RLY)\")\n",
    "ax2.set_ylabel(\"CC Reserve Ratio (RLY)\",fontsize=14)\n",
    "ax2.legend(loc='upper right')"
   ]
  },
  {
   "cell_type": "code",
   "execution_count": null,
   "metadata": {
    "pycharm": {
     "is_executing": true
    }
   },
   "outputs": [],
   "source": [
    "fig,ax = plt.subplots(figsize=(15, 7))\n",
    "plt.xticks(rotation=45)\n",
    "plt.title('Total Creator Coins, RLY Locked vs Time: Presale',fontsize = 19)\n",
    "\n",
    "ax.plot( metrics['CCs : Total Supply'], '-r',label=\"CCs : Total Supply\", marker=\".\")\n",
    "ax.set_xlabel(\"timestamps (simulated)\",fontsize=14)\n",
    "ax.set_ylabel(\"Total Supply (Millions)\",fontsize=14)\n",
    "ax.legend(loc='upper left')\n",
    "ax.grid(True)\n",
    "\n",
    "ax2=ax.twinx()\n",
    "ax2.plot( metrics['RLY : Total Locked'],'-b',label=\"RLY : Total Locked\",marker=\".\")\n",
    "ax2.set_ylabel(\"RLY : Total Locked\",fontsize=14)\n",
    "ax2.legend(loc='upper right')"
   ]
  },
  {
   "cell_type": "code",
   "execution_count": null,
   "metadata": {
    "pycharm": {
     "is_executing": true
    }
   },
   "outputs": [],
   "source": [
    "# plt.figure(figsize=(18,9))\n",
    "# plt.xticks(rotation=40)\n",
    "# plt.grid(linewidth=0.3)\n",
    "# plt.plot(metrics.loc[:,'CCs : Total Supply'],metrics.loc[:,'+2% depth: CCs Minted'],label='+2% depth: CCs Minted')\n",
    "# plt.plot(metrics.loc[:,'CCs : Total Supply'],metrics.loc[:,'+2% depth: RLY Locked'],label='+2% depth: RLY Locked')\n",
    "\n",
    "# plt.xlabel('CCs : Total Supply',fontsize = 15)\n",
    "# plt.ylabel('Delta Supply',fontsize = 15)\n",
    "# plt.title('+ 2% Market Depth : delta CCs minted, RLY Locked vs Total CC Supply (CC PRE SALE)',fontsize = 19)\n",
    "# plt.legend()\n",
    "# plt.savefig('./images/large_CC_TBC/3_posDepthDeltaCC_RLY_vs_TotalCCSupply_PRESALE.png')"
   ]
  },
  {
   "cell_type": "code",
   "execution_count": null,
   "metadata": {
    "pycharm": {
     "is_executing": true
    }
   },
   "outputs": [],
   "source": [
    "# plt.figure(figsize=(18,9))\n",
    "# plt.xticks(rotation=40)\n",
    "# plt.grid(linewidth=0.3)\n",
    "# plt.plot(metrics.loc[:,'+2% depth: RLY Locked'],metrics.loc[:,'+2% depth: CCs Minted'],label='Delta RLY Locked vs Delta CC Minted')\n",
    "\n",
    "# plt.xlabel('Delta RLY Locked for +2% depth',fontsize = 15)\n",
    "# plt.ylabel('Delta CCs Minted for +2% depth',fontsize = 15)\n",
    "# plt.title('+2% depth : Delta RLY Locked vs Delta CCs Minted (CC PRE SALE)',fontsize = 19)\n",
    "# plt.legend()\n",
    "# plt.savefig('./images/large_CC_TBC/3_posDepth_DeltaCC_vs_DeltaRLY_PRESALE.png')"
   ]
  },
  {
   "cell_type": "code",
   "execution_count": null,
   "metadata": {
    "pycharm": {
     "is_executing": true
    }
   },
   "outputs": [],
   "source": [
    "# plt.figure(figsize=(18,9))\n",
    "# plt.xticks(rotation=40)\n",
    "# plt.grid(linewidth=0.3)\n",
    "# plt.plot(metrics.loc[:,'CCs : Total Supply'],metrics.loc[:,'-2% depth: CCs Burnt'],label='-2% depth: CCs Burnt')\n",
    "# plt.plot(metrics.loc[:,'CCs : Total Supply'],metrics.loc[:,'-2% depth: RLY Un-Locked'],label='-2% depth: RLY Un-Locked')\n",
    "\n",
    "# plt.xlabel('CCs : Total Supply',fontsize = 15)\n",
    "# plt.ylabel('Total Supply (Millions)',fontsize = 15)\n",
    "# plt.title('- 2% Depth : delta CCs burnt, RLY Un-Locked vs Total CC Supply (CC PRE SALE)',fontsize = 19)\n",
    "# plt.legend()\n",
    "# plt.savefig('./images/large_CC_TBC/3_negDepthDeltaCC_RLY_vs_TotalCCSupply_PRESALE.png')"
   ]
  },
  {
   "cell_type": "code",
   "execution_count": null,
   "metadata": {
    "pycharm": {
     "is_executing": true
    }
   },
   "outputs": [],
   "source": [
    "# plt.figure(figsize=(18,9))\n",
    "# plt.xticks(rotation=40)\n",
    "# plt.grid(linewidth=0.3)\n",
    "# plt.plot(metrics.loc[:,'-2% depth: RLY Un-Locked'],metrics.loc[:,'-2% depth: CCs Burnt'],label='Delta RLY Un-Locked vs Delta CC Burnt')\n",
    "\n",
    "# plt.xlabel('RLY Un-Locked for -2% depth',fontsize = 15)\n",
    "# plt.ylabel('CCs Burnt for -2% depth',fontsize = 15)\n",
    "# plt.title('-2% depth : Delta RLY un-Locked vs Delta CCs Burnt (CC PRE SALE)',fontsize = 19)\n",
    "# plt.legend()\n",
    "# plt.savefig('./images/large_CC_TBC/3_negDepth_DeltaCC_vs_DeltaRLY_PRESALE.png')"
   ]
  },
  {
   "cell_type": "markdown",
   "metadata": {},
   "source": [
    "## Market Maturity : Automated Liquidity via the Bonding Curve\n",
    "\n",
    "- CCs ca be bought / sold via the Bonding Curve.\n",
    "    y = mx + c"
   ]
  },
  {
   "cell_type": "code",
   "execution_count": null,
   "metadata": {
    "pycharm": {
     "is_executing": true
    }
   },
   "outputs": [],
   "source": [
    "CC_finalPrice = 2 * ( ( df.loc[len(df.index)-1,'RLY To be Locked'] / df.loc[len(df.index)-1,'CC To be Minted'] ) - 0.5 * df.loc[len(df.index)-1,'CCs : Price (RLY)'] )\n",
    "\n",
    "slope2 = ( CC_finalPrice -  df.loc[len(df.index)-1,'CCs : Price (RLY)'] ) / df.loc[len(df.index)-1,'CC To be Minted'] \n",
    "constant2 = df.loc[len(df.index)-1,'CCs : Price (RLY)'] - slope2*df.loc[len(df.index)-1,'CCs : Total Supply']\n",
    "\n",
    "print('Exchange pricing function for CC Market Maturity phase : CC price (RLY) = ' + str(slope2) + ' * CCs Supply ' + str(constant2) )\n",
    "\n",
    "print('\\nTotal CCs sold during Market Maturity phase = ' + str(df.loc[len(df.index)-1,'CC To be Minted']) )\n",
    "print('Total RLY bonded to the TBC during Market Maturity phase = ' + str(df.loc[len(df.index)-1,'RLY To be Locked']) )\n",
    "print('Final CC price : ' + str(CC_finalPrice) + ' RLY')"
   ]
  },
  {
   "cell_type": "code",
   "execution_count": null,
   "metadata": {
    "pycharm": {
     "is_executing": true
    }
   },
   "outputs": [],
   "source": [
    "def costOfMinting(c,slope,prevCCSupply,newCCSupply): \n",
    "    # integral of m*x + c\n",
    "    dif = c*(newCCSupply - prevCCSupply) + 0.5*slope*(pow(newCCSupply,2)-pow(prevCCSupply,2)) \n",
    "    return dif"
   ]
  },
  {
   "cell_type": "code",
   "execution_count": null,
   "metadata": {
    "pycharm": {
     "is_executing": true
    }
   },
   "outputs": [],
   "source": [
    "CC_deltaSupply = 5000\n",
    "CCstobeMinted = df.loc[len(df.index)-1,'CC To be Minted']\n",
    "    \n",
    "while CCstobeMinted > 0:\n",
    "    cur_ = cur_ + deltaTime  # date updated\n",
    "    \n",
    "    if i < 1000:\n",
    "        CC_deltaSupply = deltaSupplies[i]        \n",
    "        i = i + 1\n",
    "    else :\n",
    "        deltaSupplies = getNormalDistributionValues(700, 1000,1000)\n",
    "        i = 0\n",
    "        CC_deltaSupply = deltaSupplies[i]\n",
    "        \n",
    "    total_CCs_to_be_minted = df.loc[len(df.index)-1,'CC To be Minted'] - CC_deltaSupply\n",
    "    CC_totalSupply = df.loc[len(df.index)-1,'CCs : Total Supply'] + CC_deltaSupply\n",
    "    \n",
    "    # functional calculation      \n",
    "    CC_price_RLY = slope2*CC_totalSupply + constant2\n",
    "    mintCost_RLY = costOfMinting(constant2,slope2,df.loc[len(df.index)-1,'CCs : Total Supply'],CC_totalSupply)\n",
    "\n",
    "    pos_depth_CC_minted = CC_price_RLY * 0.02 / slope2\n",
    "    pos_depth_RLY_locked = costOfMinting(constant2,slope2,CC_totalSupply, CC_totalSupply + pos_depth_CC_minted)\n",
    "    neg_depth_CC_burnt = CC_price_RLY * 0.02 / slope2\n",
    "    neg_depth_RLY_unlocked = -1 * costOfMinting(constant2,slope2,CC_totalSupply, CC_totalSupply - neg_depth_CC_burnt)\n",
    "        \n",
    "    RLY_DeltaLocked = mintCost_RLY\n",
    "    RLY_TotalLocked = df.loc[len(df.index)-1,'RLY : Total Locked'] + RLY_DeltaLocked\n",
    "    total_RLY_to_be_locked = df.loc[len(df.index)-1,'RLY To be Locked'] - RLY_DeltaLocked\n",
    "    reserve_ratio = RLY_TotalLocked / CC_totalSupply\n",
    "    \n",
    "    note = 'Mint Transaction'\n",
    "\n",
    "    df.loc[len(df.index)] = [pd.to_datetime(cur_,format='%d/%m/%Y'),int((cur_ - unix).total_seconds()),\n",
    "                             slope2,total_CCs_to_be_minted,total_RLY_to_be_locked, CC_price_RLY, CC_deltaSupply, CC_totalSupply,\n",
    "                             RLY_DeltaLocked,RLY_TotalLocked,pos_depth_CC_minted,pos_depth_RLY_locked,neg_depth_CC_burnt,neg_depth_RLY_unlocked,\n",
    "                             reserve_ratio,note]\n",
    "    \n",
    "    CCstobeMinted = df.loc[len(df.index)-1,'CC To be Minted']"
   ]
  },
  {
   "cell_type": "code",
   "execution_count": null,
   "metadata": {
    "pycharm": {
     "is_executing": true
    }
   },
   "outputs": [],
   "source": [
    "# display(df)\n",
    "metrics = df"
   ]
  },
  {
   "cell_type": "code",
   "execution_count": null,
   "metadata": {
    "pycharm": {
     "is_executing": true
    }
   },
   "outputs": [],
   "source": [
    "fig,ax = plt.subplots(figsize=(15, 7))\n",
    "plt.xticks(rotation=45)\n",
    "plt.title('Price, Reserve Ratio vs Total Supply: Presale',fontsize = 19)\n",
    "\n",
    "ax.plot(metrics.loc[:,'CCs : Total Supply'],metrics.loc[:,'CCs : Price (RLY)'],'-r',label=\"CC price (RLY)\")\n",
    "ax.set_xlabel(\"Creator Coin : Total Supply\",fontsize=14)\n",
    "ax.set_ylabel(\"CC price (RLY)\",fontsize=14)\n",
    "ax.legend(loc='upper left')\n",
    "ax.grid(True)\n",
    "\n",
    "ax2=ax.twinx()\n",
    "ax2.plot(metrics.loc[:,'CCs : Total Supply'],metrics.loc[:,'Reserve Ratio'],'-b',label=\"CC Reserve Ratio (RLY)\")\n",
    "ax2.set_ylabel(\"CC Reserve Ratio (RLY)\",fontsize=14)\n",
    "ax2.legend(loc='upper right')"
   ]
  },
  {
   "cell_type": "code",
   "execution_count": null,
   "metadata": {
    "pycharm": {
     "is_executing": true
    }
   },
   "outputs": [],
   "source": [
    "fig,ax = plt.subplots(figsize=(15, 7))\n",
    "plt.xticks(rotation=45)\n",
    "plt.title('Total Creator Coins, RLY Locked vs Time: Presale',fontsize = 19)\n",
    "\n",
    "ax.plot( metrics['CCs : Total Supply'], '-r',label=\"CCs : Total Supply\", marker=\".\")\n",
    "ax.set_xlabel(\"timestamps (simulated)\",fontsize=14)\n",
    "ax.set_ylabel(\"Total Supply (Millions)\",fontsize=14)\n",
    "ax.legend(loc='upper left')\n",
    "ax.grid(True)\n",
    "\n",
    "ax2=ax.twinx()\n",
    "ax2.plot( metrics['RLY : Total Locked'],'-b',label=\"RLY : Total Locked\",marker=\".\")\n",
    "ax2.set_ylabel(\"RLY : Total Locked\",fontsize=14)\n",
    "ax2.legend(loc='upper right')"
   ]
  },
  {
   "cell_type": "code",
   "execution_count": null,
   "metadata": {
    "pycharm": {
     "is_executing": true
    }
   },
   "outputs": [],
   "source": [
    "fig,ax = plt.subplots(figsize=(15, 7))\n",
    "plt.xticks(rotation=45)\n",
    "plt.title('Linear TBC : 2% Price Depth',fontsize = 19)\n",
    "\n",
    "ax.plot( metrics['CCs : Total Supply'],metrics['+2% depth: CCs Minted'], '-r',label=\"+2% depth: CCs Minted\")\n",
    "ax.set_xlabel(\"CCs : Total Supply\",fontsize=14)\n",
    "ax.set_ylabel(\"CCs Minted per 2% price increase\",fontsize=14)\n",
    "ax.legend(loc='upper left')\n",
    "ax.grid(True)\n",
    "\n",
    "ax2=ax.twinx()\n",
    "ax2.plot( metrics['CCs : Total Supply'],metrics.loc[:,'+2% depth: RLY Locked'],'-b',label=\"+2% depth: RLY Locked\")\n",
    "ax2.set_ylabel(\"RLY Locked per 2% price increase\",fontsize=14)\n",
    "ax2.legend(loc='upper right')"
   ]
  },
  {
   "cell_type": "code",
   "execution_count": null,
   "metadata": {
    "pycharm": {
     "is_executing": true
    }
   },
   "outputs": [],
   "source": [
    "plt.figure(figsize=(18,9))\n",
    "plt.xticks(rotation=40)\n",
    "plt.grid(linewidth=0.3)\n",
    "plt.plot(metrics.loc[:,'+2% depth: RLY Locked'],metrics.loc[:,'+2% depth: CCs Minted'],label='Delta RLY Locked vs Delta CC Minted')\n",
    "\n",
    "plt.xlabel('Delta RLY Locked for +2% depth',fontsize = 15)\n",
    "plt.ylabel('Delta CCs Minted for +2% depth',fontsize = 15)\n",
    "plt.title('+2% depth : Delta RLY Locked vs Delta CCs Minted',fontsize = 19)\n",
    "plt.legend()\n",
    "# plt.savefig('./images/large_CC_TBC/3_posDepth_DeltaCC_vs_DeltaRLY.png')"
   ]
  },
  {
   "cell_type": "code",
   "execution_count": null,
   "metadata": {
    "pycharm": {
     "is_executing": true
    }
   },
   "outputs": [],
   "source": [
    "fig,ax = plt.subplots(figsize=(15, 7))\n",
    "plt.xticks(rotation=45)\n",
    "plt.title('Linear TBC : -2% Price Depth',fontsize = 19)\n",
    "\n",
    "ax.plot( metrics['CCs : Total Supply'],metrics['-2% depth: CCs Burnt'], '-r',label=\"-2% depth: CCs Burnt\")\n",
    "ax.set_xlabel(\"CCs : Total Supply\",fontsize=14)\n",
    "ax.set_ylabel(\"CCs Burnt per 2% price decrease\",fontsize=14)\n",
    "ax.legend(loc='upper left')\n",
    "ax.grid(True)\n",
    "\n",
    "ax2=ax.twinx()\n",
    "ax2.plot( metrics['CCs : Total Supply'],metrics.loc[:,'-2% depth: RLY Un-Locked'],'-b',label=\"-2% depth: RLY Un-Locked\")\n",
    "ax2.set_ylabel(\"RLY UnLocked per 2% price decrease\",fontsize=14)\n",
    "ax2.legend(loc='upper right')"
   ]
  },
  {
   "cell_type": "code",
   "execution_count": null,
   "metadata": {
    "pycharm": {
     "is_executing": true
    }
   },
   "outputs": [],
   "source": [
    "plt.figure(figsize=(18,9))\n",
    "plt.xticks(rotation=40)\n",
    "plt.grid(linewidth=0.3)\n",
    "plt.plot(metrics.loc[:,'-2% depth: RLY Un-Locked'],metrics.loc[:,'-2% depth: CCs Burnt'],label='Delta RLY Un-Locked vs Delta CC Burnt')\n",
    "\n",
    "plt.xlabel('RLY Un-Locked for -2% depth',fontsize = 15)\n",
    "plt.ylabel('CCs Burnt for -2% depth',fontsize = 15)\n",
    "plt.title('-2% depth : Delta RLY un-Locked vs Delta CCs Burnt',fontsize = 19)\n",
    "plt.legend()\n",
    "# plt.savefig('./images/large_CC_TBC/3_negDepth_DeltaCC_vs_DeltaRLY.png')"
   ]
  },
  {
   "cell_type": "code",
   "execution_count": null,
   "metadata": {
    "pycharm": {
     "is_executing": true
    }
   },
   "outputs": [],
   "source": [
    "# display(df)"
   ]
  },
  {
   "cell_type": "code",
   "execution_count": null,
   "metadata": {
    "pycharm": {
     "is_executing": true
    }
   },
   "outputs": [],
   "source": [
    "aggregatedDF = pd.DataFrame([], columns = ['Range','CC minted (prev)','CC minted (new)','Delta RLY Locked']) \n",
    "CCminted = 0\n",
    "i = 0 \n",
    "\n",
    "depthFigures = pd.DataFrame([], columns = ['CCs : Total Supply','CCs : Price (RLY)',\n",
    "                                 '+2% depth: CCs Minted','+2% depth: RLY Locked',\n",
    "                                 '-2% depth: CCs Burnt','-2% depth: RLY Un-Locked',\n",
    "                                 'Reserve Ratio']) \n",
    "\n",
    "while CCminted < 21000000 and i < (len(metrics.index) - 1):\n",
    "    cur_CC = 0\n",
    "    RLY_locked_window = 0\n",
    "    \n",
    "    while cur_CC < 1000000 and i < (len(metrics.index) - 1): \n",
    "        cur_CC = cur_CC + metrics.loc[i,'CCs : Delta Supply']\n",
    "        RLY_locked_window = RLY_locked_window + metrics.loc[i,'RLY : Delta Locked'] \n",
    "        i = i + 1\n",
    "#         print( 'current CCs = ' + str(round(cur_CC,2)) + ' RLY locked window = ' + str(round(RLY_locked_window,2)) + ' i = ' + str(i) )\n",
    "        \n",
    "    aggregatedDF.loc[len(aggregatedDF.index)] = [str(round(CCminted,2)) + '-' + str(round(CCminted + cur_CC,2)),CCminted,CCminted + cur_CC, RLY_locked_window]\n",
    "\n",
    "    depthFigures.loc[len(depthFigures.index)] = metrics.loc[i,['CCs : Total Supply','CCs : Price (RLY)',\n",
    "                                 '+2% depth: CCs Minted','+2% depth: RLY Locked',\n",
    "                                 '-2% depth: CCs Burnt','-2% depth: RLY Un-Locked',\n",
    "                                 'Reserve Ratio']]\n",
    "    \n",
    "    CCminted = CCminted + cur_CC   \n",
    "    \n",
    "depthFigures.loc[len(depthFigures.index)] = metrics.loc[len(metrics.index) - 1,['CCs : Total Supply','CCs : Price (RLY)',\n",
    "                                 '+2% depth: CCs Minted','+2% depth: RLY Locked',\n",
    "                                 '-2% depth: CCs Burnt','-2% depth: RLY Un-Locked',\n",
    "                                 'Reserve Ratio']]    \n",
    "    \n",
    "    "
   ]
  },
  {
   "cell_type": "code",
   "execution_count": null,
   "metadata": {
    "pycharm": {
     "is_executing": true
    }
   },
   "outputs": [],
   "source": [
    "fig = aggregatedDF.plot.bar(x='Range',y='Delta RLY Locked',xlabel='CCs Minted (Range)',\n",
    "                      ylabel='Delta RLY Locked (scale = 10 Million)', figsize=(12,9) ).get_figure()"
   ]
  },
  {
   "cell_type": "code",
   "execution_count": null,
   "metadata": {
    "pycharm": {
     "is_executing": true
    }
   },
   "outputs": [],
   "source": [
    "# fig.savefig('./images/large_CC_TBC/3_delta_RLY_locked_perMillionCC.png')"
   ]
  },
  {
   "cell_type": "code",
   "execution_count": null,
   "metadata": {
    "pycharm": {
     "is_executing": true
    }
   },
   "outputs": [],
   "source": [
    "pd.options.display.float_format = '{:.2f}'.format\n",
    "display(depthFigures)"
   ]
  },
  {
   "cell_type": "code",
   "execution_count": null,
   "metadata": {
    "pycharm": {
     "is_executing": true
    }
   },
   "outputs": [],
   "source": []
  },
  {
   "cell_type": "code",
   "execution_count": null,
   "metadata": {
    "pycharm": {
     "is_executing": true
    }
   },
   "outputs": [],
   "source": []
  },
  {
   "cell_type": "code",
   "execution_count": null,
   "metadata": {
    "pycharm": {
     "is_executing": true
    }
   },
   "outputs": [],
   "source": []
  },
  {
   "cell_type": "code",
   "execution_count": null,
   "metadata": {
    "pycharm": {
     "is_executing": true
    }
   },
   "outputs": [],
   "source": []
  },
  {
   "cell_type": "code",
   "execution_count": null,
   "metadata": {
    "pycharm": {
     "is_executing": true
    }
   },
   "outputs": [],
   "source": []
  },
  {
   "cell_type": "code",
   "execution_count": null,
   "metadata": {
    "pycharm": {
     "is_executing": true
    }
   },
   "outputs": [],
   "source": []
  },
  {
   "cell_type": "code",
   "execution_count": null,
   "metadata": {
    "pycharm": {
     "is_executing": true
    }
   },
   "outputs": [],
   "source": []
  }
 ],
 "metadata": {
  "kernelspec": {
   "display_name": "Python 3",
   "language": "python",
   "name": "python3"
  },
  "language_info": {
   "codemirror_mode": {
    "name": "ipython",
    "version": 3
   },
   "file_extension": ".py",
   "mimetype": "text/x-python",
   "name": "python",
   "nbconvert_exporter": "python",
   "pygments_lexer": "ipython3",
   "version": "3.9.2"
  }
 },
 "nbformat": 4,
 "nbformat_minor": 1
}